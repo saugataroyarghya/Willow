{
  "cells": [
    {
      "cell_type": "code",
      "execution_count": 3,
      "metadata": {
        "colab": {
          "base_uri": "https://localhost:8080/"
        },
        "id": "YNIIb50IU0aF",
        "outputId": "df8330c1-e682-4faf-ef49-204a759a1194"
      },
      "outputs": [
        {
          "name": "stdout",
          "output_type": "stream",
          "text": [
            "Requirement already satisfied: gradio in c:\\users\\saugata\\miniconda3\\envs\\ollama\\lib\\site-packages (5.9.1)\n",
            "Requirement already satisfied: aiofiles<24.0,>=22.0 in c:\\users\\saugata\\miniconda3\\envs\\ollama\\lib\\site-packages (from gradio) (23.2.1)\n",
            "Requirement already satisfied: anyio<5.0,>=3.0 in c:\\users\\saugata\\miniconda3\\envs\\ollama\\lib\\site-packages (from gradio) (4.6.2.post1)\n",
            "Requirement already satisfied: audioop-lts<1.0 in c:\\users\\saugata\\miniconda3\\envs\\ollama\\lib\\site-packages (from gradio) (0.2.1)\n",
            "Requirement already satisfied: fastapi<1.0,>=0.115.2 in c:\\users\\saugata\\miniconda3\\envs\\ollama\\lib\\site-packages (from gradio) (0.115.6)\n",
            "Requirement already satisfied: ffmpy in c:\\users\\saugata\\miniconda3\\envs\\ollama\\lib\\site-packages (from gradio) (0.5.0)\n",
            "Requirement already satisfied: gradio-client==1.5.2 in c:\\users\\saugata\\miniconda3\\envs\\ollama\\lib\\site-packages (from gradio) (1.5.2)\n",
            "Requirement already satisfied: httpx>=0.24.1 in c:\\users\\saugata\\miniconda3\\envs\\ollama\\lib\\site-packages (from gradio) (0.27.2)\n",
            "Requirement already satisfied: huggingface-hub>=0.25.1 in c:\\users\\saugata\\miniconda3\\envs\\ollama\\lib\\site-packages (from gradio) (0.27.0)\n",
            "Requirement already satisfied: jinja2<4.0 in c:\\users\\saugata\\miniconda3\\envs\\ollama\\lib\\site-packages (from gradio) (3.1.4)\n",
            "Requirement already satisfied: markupsafe~=2.0 in c:\\users\\saugata\\miniconda3\\envs\\ollama\\lib\\site-packages (from gradio) (2.1.5)\n",
            "Requirement already satisfied: numpy<3.0,>=1.0 in c:\\users\\saugata\\miniconda3\\envs\\ollama\\lib\\site-packages (from gradio) (2.1.2)\n",
            "Requirement already satisfied: orjson~=3.0 in c:\\users\\saugata\\miniconda3\\envs\\ollama\\lib\\site-packages (from gradio) (3.10.12)\n",
            "Requirement already satisfied: packaging in c:\\users\\saugata\\miniconda3\\envs\\ollama\\lib\\site-packages (from gradio) (24.1)\n",
            "Requirement already satisfied: pandas<3.0,>=1.0 in c:\\users\\saugata\\miniconda3\\envs\\ollama\\lib\\site-packages (from gradio) (2.2.3)\n",
            "Requirement already satisfied: pillow<12.0,>=8.0 in c:\\users\\saugata\\miniconda3\\envs\\ollama\\lib\\site-packages (from gradio) (11.0.0)\n",
            "Requirement already satisfied: pydantic>=2.0 in c:\\users\\saugata\\miniconda3\\envs\\ollama\\lib\\site-packages (from gradio) (2.10.3)\n",
            "Requirement already satisfied: pydub in c:\\users\\saugata\\miniconda3\\envs\\ollama\\lib\\site-packages (from gradio) (0.25.1)\n",
            "Requirement already satisfied: python-multipart>=0.0.18 in c:\\users\\saugata\\miniconda3\\envs\\ollama\\lib\\site-packages (from gradio) (0.0.20)\n",
            "Requirement already satisfied: pyyaml<7.0,>=5.0 in c:\\users\\saugata\\miniconda3\\envs\\ollama\\lib\\site-packages (from gradio) (6.0.2)\n",
            "Requirement already satisfied: ruff>=0.2.2 in c:\\users\\saugata\\miniconda3\\envs\\ollama\\lib\\site-packages (from gradio) (0.8.4)\n",
            "Requirement already satisfied: safehttpx<0.2.0,>=0.1.6 in c:\\users\\saugata\\miniconda3\\envs\\ollama\\lib\\site-packages (from gradio) (0.1.6)\n",
            "Requirement already satisfied: semantic-version~=2.0 in c:\\users\\saugata\\miniconda3\\envs\\ollama\\lib\\site-packages (from gradio) (2.10.0)\n",
            "Requirement already satisfied: starlette<1.0,>=0.40.0 in c:\\users\\saugata\\miniconda3\\envs\\ollama\\lib\\site-packages (from gradio) (0.41.3)\n",
            "Requirement already satisfied: tomlkit<0.14.0,>=0.12.0 in c:\\users\\saugata\\miniconda3\\envs\\ollama\\lib\\site-packages (from gradio) (0.13.2)\n",
            "Requirement already satisfied: typer<1.0,>=0.12 in c:\\users\\saugata\\miniconda3\\envs\\ollama\\lib\\site-packages (from gradio) (0.15.1)\n",
            "Requirement already satisfied: typing-extensions~=4.0 in c:\\users\\saugata\\miniconda3\\envs\\ollama\\lib\\site-packages (from gradio) (4.12.2)\n",
            "Requirement already satisfied: uvicorn>=0.14.0 in c:\\users\\saugata\\miniconda3\\envs\\ollama\\lib\\site-packages (from gradio) (0.34.0)\n",
            "Requirement already satisfied: fsspec in c:\\users\\saugata\\miniconda3\\envs\\ollama\\lib\\site-packages (from gradio-client==1.5.2->gradio) (2024.12.0)\n",
            "Requirement already satisfied: websockets<15.0,>=10.0 in c:\\users\\saugata\\miniconda3\\envs\\ollama\\lib\\site-packages (from gradio-client==1.5.2->gradio) (14.1)\n",
            "Requirement already satisfied: idna>=2.8 in c:\\users\\saugata\\miniconda3\\envs\\ollama\\lib\\site-packages (from anyio<5.0,>=3.0->gradio) (3.10)\n",
            "Requirement already satisfied: sniffio>=1.1 in c:\\users\\saugata\\miniconda3\\envs\\ollama\\lib\\site-packages (from anyio<5.0,>=3.0->gradio) (1.3.1)\n",
            "Requirement already satisfied: certifi in c:\\users\\saugata\\miniconda3\\envs\\ollama\\lib\\site-packages (from httpx>=0.24.1->gradio) (2024.8.30)\n",
            "Requirement already satisfied: httpcore==1.* in c:\\users\\saugata\\miniconda3\\envs\\ollama\\lib\\site-packages (from httpx>=0.24.1->gradio) (1.0.6)\n",
            "Requirement already satisfied: h11<0.15,>=0.13 in c:\\users\\saugata\\miniconda3\\envs\\ollama\\lib\\site-packages (from httpcore==1.*->httpx>=0.24.1->gradio) (0.14.0)\n",
            "Requirement already satisfied: filelock in c:\\users\\saugata\\miniconda3\\envs\\ollama\\lib\\site-packages (from huggingface-hub>=0.25.1->gradio) (3.16.1)\n",
            "Requirement already satisfied: requests in c:\\users\\saugata\\miniconda3\\envs\\ollama\\lib\\site-packages (from huggingface-hub>=0.25.1->gradio) (2.32.3)\n",
            "Requirement already satisfied: tqdm>=4.42.1 in c:\\users\\saugata\\miniconda3\\envs\\ollama\\lib\\site-packages (from huggingface-hub>=0.25.1->gradio) (4.67.1)\n",
            "Requirement already satisfied: python-dateutil>=2.8.2 in c:\\users\\saugata\\miniconda3\\envs\\ollama\\lib\\site-packages (from pandas<3.0,>=1.0->gradio) (2.9.0)\n",
            "Requirement already satisfied: pytz>=2020.1 in c:\\users\\saugata\\miniconda3\\envs\\ollama\\lib\\site-packages (from pandas<3.0,>=1.0->gradio) (2024.2)\n",
            "Requirement already satisfied: tzdata>=2022.7 in c:\\users\\saugata\\miniconda3\\envs\\ollama\\lib\\site-packages (from pandas<3.0,>=1.0->gradio) (2024.2)\n",
            "Requirement already satisfied: annotated-types>=0.6.0 in c:\\users\\saugata\\miniconda3\\envs\\ollama\\lib\\site-packages (from pydantic>=2.0->gradio) (0.7.0)\n",
            "Requirement already satisfied: pydantic-core==2.27.1 in c:\\users\\saugata\\miniconda3\\envs\\ollama\\lib\\site-packages (from pydantic>=2.0->gradio) (2.27.1)\n",
            "Requirement already satisfied: click>=8.0.0 in c:\\users\\saugata\\miniconda3\\envs\\ollama\\lib\\site-packages (from typer<1.0,>=0.12->gradio) (8.1.7)\n",
            "Requirement already satisfied: shellingham>=1.3.0 in c:\\users\\saugata\\miniconda3\\envs\\ollama\\lib\\site-packages (from typer<1.0,>=0.12->gradio) (1.5.4)\n",
            "Requirement already satisfied: rich>=10.11.0 in c:\\users\\saugata\\miniconda3\\envs\\ollama\\lib\\site-packages (from typer<1.0,>=0.12->gradio) (13.9.4)\n",
            "Requirement already satisfied: colorama in c:\\users\\saugata\\miniconda3\\envs\\ollama\\lib\\site-packages (from click>=8.0.0->typer<1.0,>=0.12->gradio) (0.4.6)\n",
            "Requirement already satisfied: six>=1.5 in c:\\users\\saugata\\miniconda3\\envs\\ollama\\lib\\site-packages (from python-dateutil>=2.8.2->pandas<3.0,>=1.0->gradio) (1.16.0)\n",
            "Requirement already satisfied: markdown-it-py>=2.2.0 in c:\\users\\saugata\\miniconda3\\envs\\ollama\\lib\\site-packages (from rich>=10.11.0->typer<1.0,>=0.12->gradio) (3.0.0)\n",
            "Requirement already satisfied: pygments<3.0.0,>=2.13.0 in c:\\users\\saugata\\miniconda3\\envs\\ollama\\lib\\site-packages (from rich>=10.11.0->typer<1.0,>=0.12->gradio) (2.18.0)\n",
            "Requirement already satisfied: charset-normalizer<4,>=2 in c:\\users\\saugata\\miniconda3\\envs\\ollama\\lib\\site-packages (from requests->huggingface-hub>=0.25.1->gradio) (3.4.0)\n",
            "Requirement already satisfied: urllib3<3,>=1.21.1 in c:\\users\\saugata\\miniconda3\\envs\\ollama\\lib\\site-packages (from requests->huggingface-hub>=0.25.1->gradio) (2.2.3)\n",
            "Requirement already satisfied: mdurl~=0.1 in c:\\users\\saugata\\miniconda3\\envs\\ollama\\lib\\site-packages (from markdown-it-py>=2.2.0->rich>=10.11.0->typer<1.0,>=0.12->gradio) (0.1.2)\n",
            "Collecting matplotlib\n",
            "  Downloading matplotlib-3.10.0-cp313-cp313-win_amd64.whl.metadata (11 kB)\n",
            "Collecting contourpy>=1.0.1 (from matplotlib)\n",
            "  Downloading contourpy-1.3.1-cp313-cp313-win_amd64.whl.metadata (5.4 kB)\n",
            "Collecting cycler>=0.10 (from matplotlib)\n",
            "  Using cached cycler-0.12.1-py3-none-any.whl.metadata (3.8 kB)\n",
            "Collecting fonttools>=4.22.0 (from matplotlib)\n",
            "  Downloading fonttools-4.55.3-cp313-cp313-win_amd64.whl.metadata (168 kB)\n",
            "Collecting kiwisolver>=1.3.1 (from matplotlib)\n",
            "  Downloading kiwisolver-1.4.7-cp313-cp313-win_amd64.whl.metadata (6.4 kB)\n",
            "Requirement already satisfied: numpy>=1.23 in c:\\users\\saugata\\miniconda3\\envs\\ollama\\lib\\site-packages (from matplotlib) (2.1.2)\n",
            "Requirement already satisfied: packaging>=20.0 in c:\\users\\saugata\\miniconda3\\envs\\ollama\\lib\\site-packages (from matplotlib) (24.1)\n",
            "Requirement already satisfied: pillow>=8 in c:\\users\\saugata\\miniconda3\\envs\\ollama\\lib\\site-packages (from matplotlib) (11.0.0)\n",
            "Collecting pyparsing>=2.3.1 (from matplotlib)\n",
            "  Downloading pyparsing-3.2.0-py3-none-any.whl.metadata (5.0 kB)\n",
            "Requirement already satisfied: python-dateutil>=2.7 in c:\\users\\saugata\\miniconda3\\envs\\ollama\\lib\\site-packages (from matplotlib) (2.9.0)\n",
            "Requirement already satisfied: six>=1.5 in c:\\users\\saugata\\miniconda3\\envs\\ollama\\lib\\site-packages (from python-dateutil>=2.7->matplotlib) (1.16.0)\n",
            "Downloading matplotlib-3.10.0-cp313-cp313-win_amd64.whl (8.0 MB)\n",
            "   ---------------------------------------- 0.0/8.0 MB ? eta -:--:--\n",
            "   --------- ------------------------------ 1.8/8.0 MB 14.6 MB/s eta 0:00:01\n",
            "   ----------------------- ---------------- 4.7/8.0 MB 14.6 MB/s eta 0:00:01\n",
            "   ---------------------------------------- 8.0/8.0 MB 14.1 MB/s eta 0:00:00\n",
            "Downloading contourpy-1.3.1-cp313-cp313-win_amd64.whl (220 kB)\n",
            "Using cached cycler-0.12.1-py3-none-any.whl (8.3 kB)\n",
            "Downloading fonttools-4.55.3-cp313-cp313-win_amd64.whl (2.2 MB)\n",
            "   ---------------------------------------- 0.0/2.2 MB ? eta -:--:--\n",
            "   ---------------------------------------- 2.2/2.2 MB 12.5 MB/s eta 0:00:00\n",
            "Downloading kiwisolver-1.4.7-cp313-cp313-win_amd64.whl (55 kB)\n",
            "Downloading pyparsing-3.2.0-py3-none-any.whl (106 kB)\n",
            "Installing collected packages: pyparsing, kiwisolver, fonttools, cycler, contourpy, matplotlib\n",
            "Successfully installed contourpy-1.3.1 cycler-0.12.1 fonttools-4.55.3 kiwisolver-1.4.7 matplotlib-3.10.0 pyparsing-3.2.0\n"
          ]
        }
      ],
      "source": [
        "!pip install gradio\n",
        "!pip install matplotlib"
      ]
    },
    {
      "cell_type": "code",
      "execution_count": 4,
      "metadata": {
        "id": "DAX1_WGUUy7V"
      },
      "outputs": [],
      "source": [
        "import pandas as pd\n",
        "import gradio as gr\n",
        "import numpy as np\n",
        "import os\n",
        "import matplotlib.pyplot as plt"
      ]
    },
    {
      "cell_type": "code",
      "execution_count": null,
      "metadata": {},
      "outputs": [],
      "source": [
        "pip install firebase_admin"
      ]
    },
    {
      "cell_type": "code",
      "execution_count": 9,
      "metadata": {},
      "outputs": [
        {
          "name": "stdout",
          "output_type": "stream",
          "text": [
            "Firebase initialized successfully.\n"
          ]
        }
      ],
      "source": [
        "import firebase_admin\n",
        "from firebase_admin import credentials, firestore, db\n",
        "\n",
        "# Initialize Firebase Admin SDK\n",
        "def initialize_firebase():\n",
        "    # Path to your service account key JSON file\n",
        "    service_account_path = \"database1.json\"\n",
        "    \n",
        "    # Initialize Firebase Admin\n",
        "    cred = credentials.Certificate(service_account_path)\n",
        "    firebase_admin.initialize_app(cred, {\n",
        "        'databaseURL': 'https://database1-517fc-default-rtdb.firebaseio.com/',  # Replace with your Firebase Database URL\n",
        "    })\n",
        "    print(\"Firebase initialized successfully.\")\n",
        "    \n",
        "\n",
        "\n",
        "# Save data to Realtime Database\n",
        "def save_data_realtime_db(reference_path, data):\n",
        "    try:\n",
        "        ref = db.reference(reference_path)\n",
        "        ref.set(data)\n",
        "        print(f\"Data saved to Realtime Database: {reference_path}\")\n",
        "    except Exception as e:\n",
        "        print(f\"Error saving to Realtime Database: {e}\")\n",
        "        \n",
        "        \n",
        "        \n",
        "        \n",
        "\n",
        "# Fetch data from Realtime Database\n",
        "def fetch_data_realtime_db(reference_path):\n",
        "    try:\n",
        "        ref = db.reference(reference_path)\n",
        "        data = ref.get()\n",
        "        print(f\"Data fetched from Realtime Database: {data}\")\n",
        "        return data\n",
        "    except Exception as e:\n",
        "        print(f\"Error fetching from Realtime Database: {e}\")\n",
        "        \n",
        "        \n",
        "\n",
        "def store_data(item,Quantity): \n",
        "    ing_name=item\n",
        "    ing_quantity=Quantity\n",
        "    save_data_realtime_db(\"Data/ingredients/\"+str(ing_name), ing_quantity)\n",
        "    \n",
        "    \n",
        "def Fetch_data(item):\n",
        "    fetched_realtime_db_data = fetch_data_realtime_db(\"Data/ingredients\")\n",
        "    return fetched_realtime_db_data[item]\n",
        "    \n",
        "\n",
        "def Fetch_dataframe():\n",
        "    fetched_realtime_db_data = fetch_data_realtime_db(\"Data/ingredients\")\n",
        "    return fetched_realtime_db_data;\n",
        "    \n",
        "\n",
        "initialize_firebase()"
      ]
    },
    {
      "cell_type": "code",
      "execution_count": 16,
      "metadata": {
        "id": "MNeduKdBVPDV"
      },
      "outputs": [],
      "source": [
        "def operation(action, ingredient, quantity):\n",
        "    if action == \"Add\":\n",
        "        store_data(ingredient,quantity)\n",
        "        return \"Data Added Successfully\"\n",
        "        \n",
        "\n",
        "    elif action == \"Fetch\":\n",
        "        total=Fetch_data(ingredient)\n",
        "        return total\n",
        "\n",
        "    "
      ]
    },
    {
      "cell_type": "code",
      "execution_count": 17,
      "metadata": {
        "id": "WjOtl9deVuIl"
      },
      "outputs": [],
      "source": [
        "interface = gr.Interface(\n",
        "    fn=operation,\n",
        "    inputs=[\n",
        "        gr.Radio(choices=[\"Add\", \"Fetch\"], label=\"Action\"),\n",
        "        gr.Textbox(label=\"Ingredient\"),\n",
        "        gr.Slider(0, 100, label=\"Quantity\"),\n",
        "    ],\n",
        "    outputs=\"text\"\n",
        ")\n",
        "\n"
      ]
    },
    {
      "cell_type": "code",
      "execution_count": 18,
      "metadata": {
        "colab": {
          "base_uri": "https://localhost:8080/",
          "height": 650
        },
        "id": "7mej-jqyXeSI",
        "outputId": "e0f701d7-869a-4846-cc06-b3268752e84d"
      },
      "outputs": [
        {
          "name": "stdout",
          "output_type": "stream",
          "text": [
            "* Running on local URL:  http://127.0.0.1:7862\n",
            "\n",
            "To create a public link, set `share=True` in `launch()`.\n"
          ]
        },
        {
          "data": {
            "text/html": [
              "<div><iframe src=\"http://127.0.0.1:7862/\" width=\"100%\" height=\"500\" allow=\"autoplay; camera; microphone; clipboard-read; clipboard-write;\" frameborder=\"0\" allowfullscreen></iframe></div>"
            ],
            "text/plain": [
              "<IPython.core.display.HTML object>"
            ]
          },
          "metadata": {},
          "output_type": "display_data"
        },
        {
          "data": {
            "text/plain": []
          },
          "execution_count": 18,
          "metadata": {},
          "output_type": "execute_result"
        },
        {
          "name": "stdout",
          "output_type": "stream",
          "text": [
            "Created dataset file at: .gradio\\flagged\\dataset1.csv\n",
            "Data saved to Realtime Database: Data/ingredients/Potato\n",
            "Data fetched from Realtime Database: {'Potato': 39, 'Tomato': 15}\n"
          ]
        }
      ],
      "source": [
        "interface.launch()"
      ]
    },
    {
      "cell_type": "code",
      "execution_count": 12,
      "metadata": {
        "id": "ls-Es913XfXE"
      },
      "outputs": [],
      "source": []
    }
  ],
  "metadata": {
    "colab": {
      "provenance": []
    },
    "kernelspec": {
      "display_name": "ollama",
      "language": "python",
      "name": "python3"
    },
    "language_info": {
      "codemirror_mode": {
        "name": "ipython",
        "version": 3
      },
      "file_extension": ".py",
      "mimetype": "text/x-python",
      "name": "python",
      "nbconvert_exporter": "python",
      "pygments_lexer": "ipython3",
      "version": "3.13.0"
    }
  },
  "nbformat": 4,
  "nbformat_minor": 0
}
