{
  "cells": [
    {
      "cell_type": "code",
      "execution_count": 1,
      "metadata": {
        "colab": {
          "base_uri": "https://localhost:8080/"
        },
        "id": "YNIIb50IU0aF",
        "outputId": "df8330c1-e682-4faf-ef49-204a759a1194"
      },
      "outputs": [
        {
          "name": "stdout",
          "output_type": "stream",
          "text": [
            "Requirement already satisfied: gradio in c:\\users\\saugata\\miniconda3\\envs\\ollama\\lib\\site-packages (5.9.1)\n",
            "Requirement already satisfied: aiofiles<24.0,>=22.0 in c:\\users\\saugata\\miniconda3\\envs\\ollama\\lib\\site-packages (from gradio) (23.2.1)\n",
            "Requirement already satisfied: anyio<5.0,>=3.0 in c:\\users\\saugata\\miniconda3\\envs\\ollama\\lib\\site-packages (from gradio) (4.6.2.post1)\n",
            "Requirement already satisfied: audioop-lts<1.0 in c:\\users\\saugata\\miniconda3\\envs\\ollama\\lib\\site-packages (from gradio) (0.2.1)\n",
            "Requirement already satisfied: fastapi<1.0,>=0.115.2 in c:\\users\\saugata\\miniconda3\\envs\\ollama\\lib\\site-packages (from gradio) (0.115.6)\n",
            "Requirement already satisfied: ffmpy in c:\\users\\saugata\\miniconda3\\envs\\ollama\\lib\\site-packages (from gradio) (0.5.0)\n",
            "Requirement already satisfied: gradio-client==1.5.2 in c:\\users\\saugata\\miniconda3\\envs\\ollama\\lib\\site-packages (from gradio) (1.5.2)\n",
            "Requirement already satisfied: httpx>=0.24.1 in c:\\users\\saugata\\miniconda3\\envs\\ollama\\lib\\site-packages (from gradio) (0.27.2)\n",
            "Requirement already satisfied: huggingface-hub>=0.25.1 in c:\\users\\saugata\\miniconda3\\envs\\ollama\\lib\\site-packages (from gradio) (0.27.0)\n",
            "Requirement already satisfied: jinja2<4.0 in c:\\users\\saugata\\miniconda3\\envs\\ollama\\lib\\site-packages (from gradio) (3.1.4)\n",
            "Requirement already satisfied: markupsafe~=2.0 in c:\\users\\saugata\\miniconda3\\envs\\ollama\\lib\\site-packages (from gradio) (2.1.5)\n",
            "Requirement already satisfied: numpy<3.0,>=1.0 in c:\\users\\saugata\\miniconda3\\envs\\ollama\\lib\\site-packages (from gradio) (2.1.2)\n",
            "Requirement already satisfied: orjson~=3.0 in c:\\users\\saugata\\miniconda3\\envs\\ollama\\lib\\site-packages (from gradio) (3.10.12)\n",
            "Requirement already satisfied: packaging in c:\\users\\saugata\\miniconda3\\envs\\ollama\\lib\\site-packages (from gradio) (24.1)\n",
            "Requirement already satisfied: pandas<3.0,>=1.0 in c:\\users\\saugata\\miniconda3\\envs\\ollama\\lib\\site-packages (from gradio) (2.2.3)\n",
            "Requirement already satisfied: pillow<12.0,>=8.0 in c:\\users\\saugata\\miniconda3\\envs\\ollama\\lib\\site-packages (from gradio) (11.0.0)\n",
            "Requirement already satisfied: pydantic>=2.0 in c:\\users\\saugata\\miniconda3\\envs\\ollama\\lib\\site-packages (from gradio) (2.10.3)\n",
            "Requirement already satisfied: pydub in c:\\users\\saugata\\miniconda3\\envs\\ollama\\lib\\site-packages (from gradio) (0.25.1)\n",
            "Requirement already satisfied: python-multipart>=0.0.18 in c:\\users\\saugata\\miniconda3\\envs\\ollama\\lib\\site-packages (from gradio) (0.0.20)\n",
            "Requirement already satisfied: pyyaml<7.0,>=5.0 in c:\\users\\saugata\\miniconda3\\envs\\ollama\\lib\\site-packages (from gradio) (6.0.2)\n",
            "Requirement already satisfied: ruff>=0.2.2 in c:\\users\\saugata\\miniconda3\\envs\\ollama\\lib\\site-packages (from gradio) (0.8.4)\n",
            "Requirement already satisfied: safehttpx<0.2.0,>=0.1.6 in c:\\users\\saugata\\miniconda3\\envs\\ollama\\lib\\site-packages (from gradio) (0.1.6)\n",
            "Requirement already satisfied: semantic-version~=2.0 in c:\\users\\saugata\\miniconda3\\envs\\ollama\\lib\\site-packages (from gradio) (2.10.0)\n",
            "Requirement already satisfied: starlette<1.0,>=0.40.0 in c:\\users\\saugata\\miniconda3\\envs\\ollama\\lib\\site-packages (from gradio) (0.41.3)\n",
            "Requirement already satisfied: tomlkit<0.14.0,>=0.12.0 in c:\\users\\saugata\\miniconda3\\envs\\ollama\\lib\\site-packages (from gradio) (0.13.2)\n",
            "Requirement already satisfied: typer<1.0,>=0.12 in c:\\users\\saugata\\miniconda3\\envs\\ollama\\lib\\site-packages (from gradio) (0.15.1)\n",
            "Requirement already satisfied: typing-extensions~=4.0 in c:\\users\\saugata\\miniconda3\\envs\\ollama\\lib\\site-packages (from gradio) (4.12.2)\n",
            "Requirement already satisfied: uvicorn>=0.14.0 in c:\\users\\saugata\\miniconda3\\envs\\ollama\\lib\\site-packages (from gradio) (0.34.0)\n",
            "Requirement already satisfied: fsspec in c:\\users\\saugata\\miniconda3\\envs\\ollama\\lib\\site-packages (from gradio-client==1.5.2->gradio) (2024.12.0)\n",
            "Requirement already satisfied: websockets<15.0,>=10.0 in c:\\users\\saugata\\miniconda3\\envs\\ollama\\lib\\site-packages (from gradio-client==1.5.2->gradio) (14.1)\n",
            "Requirement already satisfied: idna>=2.8 in c:\\users\\saugata\\miniconda3\\envs\\ollama\\lib\\site-packages (from anyio<5.0,>=3.0->gradio) (3.10)\n",
            "Requirement already satisfied: sniffio>=1.1 in c:\\users\\saugata\\miniconda3\\envs\\ollama\\lib\\site-packages (from anyio<5.0,>=3.0->gradio) (1.3.1)\n",
            "Requirement already satisfied: certifi in c:\\users\\saugata\\miniconda3\\envs\\ollama\\lib\\site-packages (from httpx>=0.24.1->gradio) (2024.8.30)\n",
            "Requirement already satisfied: httpcore==1.* in c:\\users\\saugata\\miniconda3\\envs\\ollama\\lib\\site-packages (from httpx>=0.24.1->gradio) (1.0.6)\n",
            "Requirement already satisfied: h11<0.15,>=0.13 in c:\\users\\saugata\\miniconda3\\envs\\ollama\\lib\\site-packages (from httpcore==1.*->httpx>=0.24.1->gradio) (0.14.0)\n",
            "Requirement already satisfied: filelock in c:\\users\\saugata\\miniconda3\\envs\\ollama\\lib\\site-packages (from huggingface-hub>=0.25.1->gradio) (3.16.1)\n",
            "Requirement already satisfied: requests in c:\\users\\saugata\\miniconda3\\envs\\ollama\\lib\\site-packages (from huggingface-hub>=0.25.1->gradio) (2.32.3)\n",
            "Requirement already satisfied: tqdm>=4.42.1 in c:\\users\\saugata\\miniconda3\\envs\\ollama\\lib\\site-packages (from huggingface-hub>=0.25.1->gradio) (4.67.1)\n",
            "Requirement already satisfied: python-dateutil>=2.8.2 in c:\\users\\saugata\\miniconda3\\envs\\ollama\\lib\\site-packages (from pandas<3.0,>=1.0->gradio) (2.9.0)\n",
            "Requirement already satisfied: pytz>=2020.1 in c:\\users\\saugata\\miniconda3\\envs\\ollama\\lib\\site-packages (from pandas<3.0,>=1.0->gradio) (2024.2)\n",
            "Requirement already satisfied: tzdata>=2022.7 in c:\\users\\saugata\\miniconda3\\envs\\ollama\\lib\\site-packages (from pandas<3.0,>=1.0->gradio) (2024.2)\n",
            "Requirement already satisfied: annotated-types>=0.6.0 in c:\\users\\saugata\\miniconda3\\envs\\ollama\\lib\\site-packages (from pydantic>=2.0->gradio) (0.7.0)\n",
            "Requirement already satisfied: pydantic-core==2.27.1 in c:\\users\\saugata\\miniconda3\\envs\\ollama\\lib\\site-packages (from pydantic>=2.0->gradio) (2.27.1)\n",
            "Requirement already satisfied: click>=8.0.0 in c:\\users\\saugata\\miniconda3\\envs\\ollama\\lib\\site-packages (from typer<1.0,>=0.12->gradio) (8.1.7)\n",
            "Requirement already satisfied: shellingham>=1.3.0 in c:\\users\\saugata\\miniconda3\\envs\\ollama\\lib\\site-packages (from typer<1.0,>=0.12->gradio) (1.5.4)\n",
            "Requirement already satisfied: rich>=10.11.0 in c:\\users\\saugata\\miniconda3\\envs\\ollama\\lib\\site-packages (from typer<1.0,>=0.12->gradio) (13.9.4)\n",
            "Requirement already satisfied: colorama in c:\\users\\saugata\\miniconda3\\envs\\ollama\\lib\\site-packages (from click>=8.0.0->typer<1.0,>=0.12->gradio) (0.4.6)\n",
            "Requirement already satisfied: six>=1.5 in c:\\users\\saugata\\miniconda3\\envs\\ollama\\lib\\site-packages (from python-dateutil>=2.8.2->pandas<3.0,>=1.0->gradio) (1.16.0)\n",
            "Requirement already satisfied: markdown-it-py>=2.2.0 in c:\\users\\saugata\\miniconda3\\envs\\ollama\\lib\\site-packages (from rich>=10.11.0->typer<1.0,>=0.12->gradio) (3.0.0)\n",
            "Requirement already satisfied: pygments<3.0.0,>=2.13.0 in c:\\users\\saugata\\miniconda3\\envs\\ollama\\lib\\site-packages (from rich>=10.11.0->typer<1.0,>=0.12->gradio) (2.18.0)\n",
            "Requirement already satisfied: charset-normalizer<4,>=2 in c:\\users\\saugata\\miniconda3\\envs\\ollama\\lib\\site-packages (from requests->huggingface-hub>=0.25.1->gradio) (3.4.0)\n",
            "Requirement already satisfied: urllib3<3,>=1.21.1 in c:\\users\\saugata\\miniconda3\\envs\\ollama\\lib\\site-packages (from requests->huggingface-hub>=0.25.1->gradio) (2.2.3)\n",
            "Requirement already satisfied: mdurl~=0.1 in c:\\users\\saugata\\miniconda3\\envs\\ollama\\lib\\site-packages (from markdown-it-py>=2.2.0->rich>=10.11.0->typer<1.0,>=0.12->gradio) (0.1.2)\n",
            "Requirement already satisfied: matplotlib in c:\\users\\saugata\\miniconda3\\envs\\ollama\\lib\\site-packages (3.10.0)\n",
            "Requirement already satisfied: contourpy>=1.0.1 in c:\\users\\saugata\\miniconda3\\envs\\ollama\\lib\\site-packages (from matplotlib) (1.3.1)\n",
            "Requirement already satisfied: cycler>=0.10 in c:\\users\\saugata\\miniconda3\\envs\\ollama\\lib\\site-packages (from matplotlib) (0.12.1)\n",
            "Requirement already satisfied: fonttools>=4.22.0 in c:\\users\\saugata\\miniconda3\\envs\\ollama\\lib\\site-packages (from matplotlib) (4.55.3)\n",
            "Requirement already satisfied: kiwisolver>=1.3.1 in c:\\users\\saugata\\miniconda3\\envs\\ollama\\lib\\site-packages (from matplotlib) (1.4.7)\n",
            "Requirement already satisfied: numpy>=1.23 in c:\\users\\saugata\\miniconda3\\envs\\ollama\\lib\\site-packages (from matplotlib) (2.1.2)\n",
            "Requirement already satisfied: packaging>=20.0 in c:\\users\\saugata\\miniconda3\\envs\\ollama\\lib\\site-packages (from matplotlib) (24.1)\n",
            "Requirement already satisfied: pillow>=8 in c:\\users\\saugata\\miniconda3\\envs\\ollama\\lib\\site-packages (from matplotlib) (11.0.0)\n",
            "Requirement already satisfied: pyparsing>=2.3.1 in c:\\users\\saugata\\miniconda3\\envs\\ollama\\lib\\site-packages (from matplotlib) (3.2.0)\n",
            "Requirement already satisfied: python-dateutil>=2.7 in c:\\users\\saugata\\miniconda3\\envs\\ollama\\lib\\site-packages (from matplotlib) (2.9.0)\n",
            "Requirement already satisfied: six>=1.5 in c:\\users\\saugata\\miniconda3\\envs\\ollama\\lib\\site-packages (from python-dateutil>=2.7->matplotlib) (1.16.0)\n"
          ]
        }
      ],
      "source": [
        "!pip install gradio\n",
        "!pip install matplotlib"
      ]
    },
    {
      "cell_type": "code",
      "execution_count": 2,
      "metadata": {
        "id": "DAX1_WGUUy7V"
      },
      "outputs": [
        {
          "name": "stderr",
          "output_type": "stream",
          "text": [
            "c:\\Users\\Saugata\\miniconda3\\envs\\ollama\\Lib\\site-packages\\tqdm\\auto.py:21: TqdmWarning: IProgress not found. Please update jupyter and ipywidgets. See https://ipywidgets.readthedocs.io/en/stable/user_install.html\n",
            "  from .autonotebook import tqdm as notebook_tqdm\n"
          ]
        }
      ],
      "source": [
        "import pandas as pd\n",
        "import gradio as gr\n",
        "import numpy as np\n",
        "import os\n",
        "import matplotlib.pyplot as plt"
      ]
    },
    {
      "cell_type": "code",
      "execution_count": 3,
      "metadata": {},
      "outputs": [
        {
          "name": "stdout",
          "output_type": "stream",
          "text": [
            "Requirement already satisfied: firebase_admin in c:\\users\\saugata\\miniconda3\\envs\\ollama\\lib\\site-packages (6.6.0)\n",
            "Requirement already satisfied: cachecontrol>=0.12.14 in c:\\users\\saugata\\miniconda3\\envs\\ollama\\lib\\site-packages (from firebase_admin) (0.14.1)\n",
            "Requirement already satisfied: google-api-python-client>=1.7.8 in c:\\users\\saugata\\miniconda3\\envs\\ollama\\lib\\site-packages (from firebase_admin) (2.156.0)\n",
            "Requirement already satisfied: google-cloud-storage>=1.37.1 in c:\\users\\saugata\\miniconda3\\envs\\ollama\\lib\\site-packages (from firebase_admin) (2.19.0)\n",
            "Requirement already satisfied: pyjwt>=2.5.0 in c:\\users\\saugata\\miniconda3\\envs\\ollama\\lib\\site-packages (from pyjwt[crypto]>=2.5.0->firebase_admin) (2.10.1)\n",
            "Requirement already satisfied: google-api-core<3.0.0dev,>=1.22.1 in c:\\users\\saugata\\miniconda3\\envs\\ollama\\lib\\site-packages (from google-api-core[grpc]<3.0.0dev,>=1.22.1; platform_python_implementation != \"PyPy\"->firebase_admin) (2.24.0)\n",
            "Requirement already satisfied: google-cloud-firestore>=2.19.0 in c:\\users\\saugata\\miniconda3\\envs\\ollama\\lib\\site-packages (from firebase_admin) (2.19.0)\n",
            "Requirement already satisfied: requests>=2.16.0 in c:\\users\\saugata\\miniconda3\\envs\\ollama\\lib\\site-packages (from cachecontrol>=0.12.14->firebase_admin) (2.32.3)\n",
            "Requirement already satisfied: msgpack<2.0.0,>=0.5.2 in c:\\users\\saugata\\miniconda3\\envs\\ollama\\lib\\site-packages (from cachecontrol>=0.12.14->firebase_admin) (1.1.0)\n",
            "Requirement already satisfied: googleapis-common-protos<2.0.dev0,>=1.56.2 in c:\\users\\saugata\\miniconda3\\envs\\ollama\\lib\\site-packages (from google-api-core<3.0.0dev,>=1.22.1->google-api-core[grpc]<3.0.0dev,>=1.22.1; platform_python_implementation != \"PyPy\"->firebase_admin) (1.66.0)\n",
            "Requirement already satisfied: protobuf!=3.20.0,!=3.20.1,!=4.21.0,!=4.21.1,!=4.21.2,!=4.21.3,!=4.21.4,!=4.21.5,<6.0.0.dev0,>=3.19.5 in c:\\users\\saugata\\miniconda3\\envs\\ollama\\lib\\site-packages (from google-api-core<3.0.0dev,>=1.22.1->google-api-core[grpc]<3.0.0dev,>=1.22.1; platform_python_implementation != \"PyPy\"->firebase_admin) (5.29.2)\n",
            "Requirement already satisfied: proto-plus<2.0.0dev,>=1.22.3 in c:\\users\\saugata\\miniconda3\\envs\\ollama\\lib\\site-packages (from google-api-core<3.0.0dev,>=1.22.1->google-api-core[grpc]<3.0.0dev,>=1.22.1; platform_python_implementation != \"PyPy\"->firebase_admin) (1.25.0)\n",
            "Requirement already satisfied: google-auth<3.0.dev0,>=2.14.1 in c:\\users\\saugata\\miniconda3\\envs\\ollama\\lib\\site-packages (from google-api-core<3.0.0dev,>=1.22.1->google-api-core[grpc]<3.0.0dev,>=1.22.1; platform_python_implementation != \"PyPy\"->firebase_admin) (2.37.0)\n",
            "Requirement already satisfied: grpcio<2.0dev,>=1.33.2 in c:\\users\\saugata\\miniconda3\\envs\\ollama\\lib\\site-packages (from google-api-core[grpc]<3.0.0dev,>=1.22.1; platform_python_implementation != \"PyPy\"->firebase_admin) (1.68.1)\n",
            "Requirement already satisfied: grpcio-status<2.0.dev0,>=1.33.2 in c:\\users\\saugata\\miniconda3\\envs\\ollama\\lib\\site-packages (from google-api-core[grpc]<3.0.0dev,>=1.22.1; platform_python_implementation != \"PyPy\"->firebase_admin) (1.68.1)\n",
            "Requirement already satisfied: httplib2<1.dev0,>=0.19.0 in c:\\users\\saugata\\miniconda3\\envs\\ollama\\lib\\site-packages (from google-api-python-client>=1.7.8->firebase_admin) (0.22.0)\n",
            "Requirement already satisfied: google-auth-httplib2<1.0.0,>=0.2.0 in c:\\users\\saugata\\miniconda3\\envs\\ollama\\lib\\site-packages (from google-api-python-client>=1.7.8->firebase_admin) (0.2.0)\n",
            "Requirement already satisfied: uritemplate<5,>=3.0.1 in c:\\users\\saugata\\miniconda3\\envs\\ollama\\lib\\site-packages (from google-api-python-client>=1.7.8->firebase_admin) (4.1.1)\n",
            "Requirement already satisfied: google-cloud-core<3.0.0dev,>=1.4.1 in c:\\users\\saugata\\miniconda3\\envs\\ollama\\lib\\site-packages (from google-cloud-firestore>=2.19.0->firebase_admin) (2.4.1)\n",
            "Requirement already satisfied: google-resumable-media>=2.7.2 in c:\\users\\saugata\\miniconda3\\envs\\ollama\\lib\\site-packages (from google-cloud-storage>=1.37.1->firebase_admin) (2.7.2)\n",
            "Requirement already satisfied: google-crc32c<2.0dev,>=1.0 in c:\\users\\saugata\\miniconda3\\envs\\ollama\\lib\\site-packages (from google-cloud-storage>=1.37.1->firebase_admin) (1.6.0)\n",
            "Requirement already satisfied: cryptography>=3.4.0 in c:\\users\\saugata\\miniconda3\\envs\\ollama\\lib\\site-packages (from pyjwt[crypto]>=2.5.0->firebase_admin) (44.0.0)\n",
            "Requirement already satisfied: cffi>=1.12 in c:\\users\\saugata\\miniconda3\\envs\\ollama\\lib\\site-packages (from cryptography>=3.4.0->pyjwt[crypto]>=2.5.0->firebase_admin) (1.17.1)\n",
            "Requirement already satisfied: cachetools<6.0,>=2.0.0 in c:\\users\\saugata\\miniconda3\\envs\\ollama\\lib\\site-packages (from google-auth<3.0.dev0,>=2.14.1->google-api-core<3.0.0dev,>=1.22.1->google-api-core[grpc]<3.0.0dev,>=1.22.1; platform_python_implementation != \"PyPy\"->firebase_admin) (5.5.0)\n",
            "Requirement already satisfied: pyasn1-modules>=0.2.1 in c:\\users\\saugata\\miniconda3\\envs\\ollama\\lib\\site-packages (from google-auth<3.0.dev0,>=2.14.1->google-api-core<3.0.0dev,>=1.22.1->google-api-core[grpc]<3.0.0dev,>=1.22.1; platform_python_implementation != \"PyPy\"->firebase_admin) (0.4.1)\n",
            "Requirement already satisfied: rsa<5,>=3.1.4 in c:\\users\\saugata\\miniconda3\\envs\\ollama\\lib\\site-packages (from google-auth<3.0.dev0,>=2.14.1->google-api-core<3.0.0dev,>=1.22.1->google-api-core[grpc]<3.0.0dev,>=1.22.1; platform_python_implementation != \"PyPy\"->firebase_admin) (4.9)\n",
            "Requirement already satisfied: pyparsing!=3.0.0,!=3.0.1,!=3.0.2,!=3.0.3,<4,>=2.4.2 in c:\\users\\saugata\\miniconda3\\envs\\ollama\\lib\\site-packages (from httplib2<1.dev0,>=0.19.0->google-api-python-client>=1.7.8->firebase_admin) (3.2.0)\n",
            "Requirement already satisfied: charset-normalizer<4,>=2 in c:\\users\\saugata\\miniconda3\\envs\\ollama\\lib\\site-packages (from requests>=2.16.0->cachecontrol>=0.12.14->firebase_admin) (3.4.0)\n",
            "Requirement already satisfied: idna<4,>=2.5 in c:\\users\\saugata\\miniconda3\\envs\\ollama\\lib\\site-packages (from requests>=2.16.0->cachecontrol>=0.12.14->firebase_admin) (3.10)\n",
            "Requirement already satisfied: urllib3<3,>=1.21.1 in c:\\users\\saugata\\miniconda3\\envs\\ollama\\lib\\site-packages (from requests>=2.16.0->cachecontrol>=0.12.14->firebase_admin) (2.2.3)\n",
            "Requirement already satisfied: certifi>=2017.4.17 in c:\\users\\saugata\\miniconda3\\envs\\ollama\\lib\\site-packages (from requests>=2.16.0->cachecontrol>=0.12.14->firebase_admin) (2024.8.30)\n",
            "Requirement already satisfied: pycparser in c:\\users\\saugata\\miniconda3\\envs\\ollama\\lib\\site-packages (from cffi>=1.12->cryptography>=3.4.0->pyjwt[crypto]>=2.5.0->firebase_admin) (2.22)\n",
            "Requirement already satisfied: pyasn1<0.7.0,>=0.4.6 in c:\\users\\saugata\\miniconda3\\envs\\ollama\\lib\\site-packages (from pyasn1-modules>=0.2.1->google-auth<3.0.dev0,>=2.14.1->google-api-core<3.0.0dev,>=1.22.1->google-api-core[grpc]<3.0.0dev,>=1.22.1; platform_python_implementation != \"PyPy\"->firebase_admin) (0.6.1)\n",
            "Note: you may need to restart the kernel to use updated packages.\n"
          ]
        }
      ],
      "source": [
        "pip install firebase_admin"
      ]
    },
    {
      "cell_type": "code",
      "execution_count": 5,
      "metadata": {},
      "outputs": [
        {
          "name": "stdout",
          "output_type": "stream",
          "text": [
            "Firebase initialized successfully.\n"
          ]
        }
      ],
      "source": [
        "import firebase_admin\n",
        "from firebase_admin import credentials, firestore, db\n",
        "\n",
        "# Initialize Firebase Admin SDK\n",
        "def initialize_firebase():\n",
        "    # Path to your service account key JSON file\n",
        "    service_account_path = \"database1.json\"\n",
        "    \n",
        "    # Initialize Firebase Admin\n",
        "    cred = credentials.Certificate(service_account_path)\n",
        "    firebase_admin.initialize_app(cred, {\n",
        "        'databaseURL': 'https://database1-517fc-default-rtdb.firebaseio.com/',  # Replace with your Firebase Database URL\n",
        "    })\n",
        "    print(\"Firebase initialized successfully.\")\n",
        "    \n",
        "\n",
        "\n",
        "# Save data to Realtime Database\n",
        "def save_data_realtime_db(reference_path, data):\n",
        "    try:\n",
        "        ref = db.reference(reference_path)\n",
        "        ref.set(data)\n",
        "        print(f\"Data saved to Realtime Database: {reference_path}\")\n",
        "    except Exception as e:\n",
        "        print(f\"Error saving to Realtime Database: {e}\")\n",
        "        \n",
        "        \n",
        "        \n",
        "        \n",
        "\n",
        "# Fetch data from Realtime Database\n",
        "def fetch_data_realtime_db(reference_path):\n",
        "    try:\n",
        "        ref = db.reference(reference_path)\n",
        "        data = ref.get()\n",
        "        print(f\"Data fetched from Realtime Database: {data}\")\n",
        "        return data\n",
        "    except Exception as e:\n",
        "        print(f\"Error fetching from Realtime Database: {e}\")\n",
        "        \n",
        "        \n",
        "\n",
        "def store_data(item,Quantity): \n",
        "    ing_name=item\n",
        "    ing_quantity=Quantity\n",
        "    save_data_realtime_db(\"Data/ingredients/\"+str(ing_name), ing_quantity)\n",
        "    \n",
        "    \n",
        "def Fetch_data(item):\n",
        "    fetched_realtime_db_data = fetch_data_realtime_db(\"Data/ingredients\")\n",
        "    return fetched_realtime_db_data[item]\n",
        "    \n",
        "\n",
        "def Fetch_dataframe():\n",
        "    fetched_realtime_db_data = fetch_data_realtime_db(\"Data/ingredients\")\n",
        "    return fetched_realtime_db_data;\n",
        "    \n",
        "\n",
        "initialize_firebase()"
      ]
    },
    {
      "cell_type": "code",
      "execution_count": 6,
      "metadata": {
        "id": "MNeduKdBVPDV"
      },
      "outputs": [],
      "source": [
        "def operation(action, ingredient, quantity):\n",
        "    if action == \"Add\":\n",
        "        store_data(ingredient,quantity)\n",
        "        return \"Data Added Successfully\"\n",
        "        \n",
        "\n",
        "    elif action == \"Fetch\":\n",
        "        total=Fetch_data(ingredient)\n",
        "        return total\n",
        "\n",
        "    "
      ]
    },
    {
      "cell_type": "code",
      "execution_count": 7,
      "metadata": {
        "id": "WjOtl9deVuIl"
      },
      "outputs": [],
      "source": [
        "interface = gr.Interface(\n",
        "    fn=operation,\n",
        "    inputs=[\n",
        "        gr.Radio(choices=[\"Add\", \"Fetch\"], label=\"Action\"),\n",
        "        gr.Textbox(label=\"Ingredient\"),\n",
        "        gr.Slider(0, 100, label=\"Quantity\"),\n",
        "    ],\n",
        "    outputs=\"text\"\n",
        ")\n"
      ]
    },
    {
      "cell_type": "code",
      "execution_count": 8,
      "metadata": {
        "colab": {
          "base_uri": "https://localhost:8080/",
          "height": 650
        },
        "id": "7mej-jqyXeSI",
        "outputId": "e0f701d7-869a-4846-cc06-b3268752e84d"
      },
      "outputs": [
        {
          "name": "stdout",
          "output_type": "stream",
          "text": [
            "* Running on local URL:  http://127.0.0.1:7860\n",
            "\n",
            "To create a public link, set `share=True` in `launch()`.\n"
          ]
        },
        {
          "data": {
            "text/html": [
              "<div><iframe src=\"http://127.0.0.1:7860/\" width=\"100%\" height=\"500\" allow=\"autoplay; camera; microphone; clipboard-read; clipboard-write;\" frameborder=\"0\" allowfullscreen></iframe></div>"
            ],
            "text/plain": [
              "<IPython.core.display.HTML object>"
            ]
          },
          "metadata": {},
          "output_type": "display_data"
        },
        {
          "data": {
            "text/plain": []
          },
          "execution_count": 8,
          "metadata": {},
          "output_type": "execute_result"
        },
        {
          "name": "stdout",
          "output_type": "stream",
          "text": [
            "Data fetched from Realtime Database: {'Potato': 69, 'Tomato': 15}\n"
          ]
        },
        {
          "name": "stderr",
          "output_type": "stream",
          "text": [
            "Traceback (most recent call last):\n",
            "  File \"c:\\Users\\Saugata\\miniconda3\\envs\\ollama\\Lib\\site-packages\\gradio\\queueing.py\", line 625, in process_events\n",
            "    response = await route_utils.call_process_api(\n",
            "               ^^^^^^^^^^^^^^^^^^^^^^^^^^^^^^^^^^^\n",
            "    ...<5 lines>...\n",
            "    )\n",
            "    ^\n",
            "  File \"c:\\Users\\Saugata\\miniconda3\\envs\\ollama\\Lib\\site-packages\\gradio\\route_utils.py\", line 322, in call_process_api\n",
            "    output = await app.get_blocks().process_api(\n",
            "             ^^^^^^^^^^^^^^^^^^^^^^^^^^^^^^^^^^^\n",
            "    ...<11 lines>...\n",
            "    )\n",
            "    ^\n",
            "  File \"c:\\Users\\Saugata\\miniconda3\\envs\\ollama\\Lib\\site-packages\\gradio\\blocks.py\", line 2047, in process_api\n",
            "    result = await self.call_function(\n",
            "             ^^^^^^^^^^^^^^^^^^^^^^^^^\n",
            "    ...<8 lines>...\n",
            "    )\n",
            "    ^\n",
            "  File \"c:\\Users\\Saugata\\miniconda3\\envs\\ollama\\Lib\\site-packages\\gradio\\blocks.py\", line 1594, in call_function\n",
            "    prediction = await anyio.to_thread.run_sync(  # type: ignore\n",
            "                 ^^^^^^^^^^^^^^^^^^^^^^^^^^^^^^^^^^^^^^^^^^^^^^^\n",
            "        fn, *processed_input, limiter=self.limiter\n",
            "        ^^^^^^^^^^^^^^^^^^^^^^^^^^^^^^^^^^^^^^^^^^\n",
            "    )\n",
            "    ^\n",
            "  File \"c:\\Users\\Saugata\\miniconda3\\envs\\ollama\\Lib\\site-packages\\anyio\\to_thread.py\", line 56, in run_sync\n",
            "    return await get_async_backend().run_sync_in_worker_thread(\n",
            "           ^^^^^^^^^^^^^^^^^^^^^^^^^^^^^^^^^^^^^^^^^^^^^^^^^^^^\n",
            "        func, args, abandon_on_cancel=abandon_on_cancel, limiter=limiter\n",
            "        ^^^^^^^^^^^^^^^^^^^^^^^^^^^^^^^^^^^^^^^^^^^^^^^^^^^^^^^^^^^^^^^^\n",
            "    )\n",
            "    ^\n",
            "  File \"c:\\Users\\Saugata\\miniconda3\\envs\\ollama\\Lib\\site-packages\\anyio\\_backends\\_asyncio.py\", line 2441, in run_sync_in_worker_thread\n",
            "    return await future\n",
            "           ^^^^^^^^^^^^\n",
            "  File \"c:\\Users\\Saugata\\miniconda3\\envs\\ollama\\Lib\\site-packages\\anyio\\_backends\\_asyncio.py\", line 943, in run\n",
            "    result = context.run(func, *args)\n",
            "  File \"c:\\Users\\Saugata\\miniconda3\\envs\\ollama\\Lib\\site-packages\\gradio\\utils.py\", line 869, in wrapper\n",
            "    response = f(*args, **kwargs)\n",
            "  File \"C:\\Users\\Saugata\\AppData\\Local\\Temp\\ipykernel_4756\\965498535.py\", line 8, in operation\n",
            "    total=Fetch_data(ingredient)\n",
            "  File \"C:\\Users\\Saugata\\AppData\\Local\\Temp\\ipykernel_4756\\419403530.py\", line 51, in Fetch_data\n",
            "    return fetched_realtime_db_data[item]\n",
            "           ~~~~~~~~~~~~~~~~~~~~~~~~^^^^^^\n",
            "KeyError: ''\n"
          ]
        }
      ],
      "source": [
        "interface.launch()"
      ]
    },
    {
      "cell_type": "code",
      "execution_count": 12,
      "metadata": {
        "id": "ls-Es913XfXE"
      },
      "outputs": [],
      "source": []
    },
    {
      "cell_type": "code",
      "execution_count": 8,
      "metadata": {},
      "outputs": [],
      "source": [
        "#Dummy Present Ingredient Data\n",
        "data = {\n",
        "    \"Tomato\": 10,\n",
        "    \"Potato\": 20,\n",
        "    \"Onion\": 15,\n",
        "    \"Carrot\": 5,\n",
        "    \"Beans\": 8\n",
        "}"
      ]
    },
    {
      "cell_type": "code",
      "execution_count": null,
      "metadata": {},
      "outputs": [],
      "source": [
        "import os\n",
        "import json\n",
        "\n",
        "# File path to store recipes\n",
        "RECIPE_FILE = \"my_fav_recipes.txt\"\n",
        "\n",
        "# Ensure the recipe file exists\n",
        "def initialize_recipe_file():\n",
        "    if not os.path.exists(RECIPE_FILE):\n",
        "        with open(RECIPE_FILE, \"w\") as file:\n",
        "            file.write(json.dumps({\"recipes\": [], \"images\": []}, indent=4))\n",
        "\n",
        "# Function to load recipes from the file\n",
        "def load_recipes():\n",
        "    if os.path.exists(RECIPE_FILE):\n",
        "        with open(RECIPE_FILE, \"r\") as file:\n",
        "            return json.load(file)\n",
        "    return {\"recipes\": [], \"images\": []}\n",
        "\n",
        "# Function to save recipes to the file\n",
        "def save_recipes(data):\n",
        "    with open(RECIPE_FILE, \"w\") as file:\n",
        "        json.dump(data, file, indent=4)\n",
        "\n",
        "# Function to add a new recipe\n",
        "def add_recipe():\n",
        "    recipe_name = input(\"Enter recipe name: \")\n",
        "    taste = input(\"Enter taste description: \")\n",
        "    reviews = float(input(\"Enter reviews (e.g., 4.5): \"))\n",
        "    cuisine_type = input(\"Enter cuisine type: \")\n",
        "    preparation_time = input(\"Enter preparation time: \")\n",
        "    ingredients = []\n",
        "\n",
        "    print(\"Enter ingredients (type 'done' to finish):\")\n",
        "    while True:\n",
        "        item = input(\"Ingredient name: \")\n",
        "        if item.lower() == 'done':\n",
        "            break\n",
        "        amount = input(f\"Amount of {item}: \")\n",
        "        ingredients.append({\"item\": item, \"amount\": amount})\n",
        "\n",
        "    recipes_data = load_recipes()\n",
        "    recipes_data[\"recipes\"].append({\n",
        "        \"name\": recipe_name,\n",
        "        \"taste\": taste,\n",
        "        \"reviews\": reviews,\n",
        "        \"cuisine_type\": cuisine_type,\n",
        "        \"preparation_time\": preparation_time,\n",
        "        \"ingredients\": ingredients\n",
        "    })\n",
        "    save_recipes(recipes_data)\n",
        "    print(\"Recipe added successfully!\")\n",
        "\n",
        "# Function to add a new recipe image\n",
        "def add_recipe_image():\n",
        "    recipe_name = input(\"Enter recipe name for the image: \")\n",
        "    image_path = input(\"Enter image file path: \")\n",
        "\n",
        "    if not os.path.exists(image_path):\n",
        "        print(\"Image file does not exist.\")\n",
        "        return\n",
        "\n",
        "    recipes_data = load_recipes()\n",
        "    recipes_data[\"images\"].append({\"recipe_name\": recipe_name, \"location\": image_path})\n",
        "    save_recipes(recipes_data)\n",
        "    print(\"Recipe image added successfully!\")\n",
        "\n",
        "# Function to display all recipes\n",
        "def get_recipes():\n",
        "    recipes_data = load_recipes()\n",
        "    print(json.dumps(recipes_data, indent=4))\n",
        "\n",
        "if _name_ == '_main_':\n",
        "    initialize_recipe_file()\n",
        "    while True:\n",
        "        print(\"\\nOptions:\")\n",
        "        print(\"1. Add a new recipe\")\n",
        "        print(\"2. Add a recipe image\")\n",
        "        print(\"3. View all recipes\")\n",
        "        print(\"4. Exit\")\n",
        "        \n",
        "        choice = input(\"Enter your choice: \")\n",
        "        if choice == '1':\n",
        "            add_recipe()\n",
        "        elif choice == '2':\n",
        "            add_recipe_image()\n",
        "        elif choice == '3':\n",
        "            get_recipes()\n",
        "        elif choice == '4':\n",
        "            print(\"Exiting... Goodbye!\")\n",
        "            break\n",
        "        else:\n",
        "            print(\"Invalid choice. Please try again.\")"
      ]
    },
    {
      "cell_type": "markdown",
      "metadata": {},
      "source": [
        "ChatBot With RAG using Langchain and Ollama"
      ]
    },
    {
      "cell_type": "code",
      "execution_count": 9,
      "metadata": {},
      "outputs": [],
      "source": [
        "import threading\n",
        "import subprocess\n",
        "import time\n",
        "\n",
        "def run_ollama_serve():\n",
        "  subprocess.Popen([\"ollama\", \"serve\"])\n",
        "\n",
        "thread = threading.Thread(target=run_ollama_serve)\n",
        "thread.start()\n",
        "time.sleep(5)"
      ]
    },
    {
      "cell_type": "code",
      "execution_count": null,
      "metadata": {},
      "outputs": [
        {
          "name": "stderr",
          "output_type": "stream",
          "text": [
            "\u001b[?25lpulling manifest ⠙ \u001b[?25h\u001b[?25l\u001b[2K\u001b[1Gpulling manifest ⠙ \u001b[?25h\u001b[?25l\u001b[2K\u001b[1Gpulling manifest ⠸ \u001b[?25h\u001b[?25l\u001b[2K\u001b[1Gpulling manifest ⠸ \u001b[?25h\u001b[?25l\u001b[2K\u001b[1Gpulling manifest ⠴ \u001b[?25h\u001b[?25l\u001b[2K\u001b[1Gpulling manifest ⠦ \u001b[?25h\u001b[?25l\u001b[2K\u001b[1Gpulling manifest ⠦ \u001b[?25h\u001b[?25l\u001b[2K\u001b[1Gpulling manifest ⠇ \u001b[?25h\u001b[?25l\u001b[2K\u001b[1Gpulling manifest ⠇ \u001b[?25h\u001b[?25l\u001b[2K\u001b[1Gpulling manifest ⠋ \u001b[?25h\u001b[?25l\u001b[2K\u001b[1Gpulling manifest ⠋ \u001b[?25h\u001b[?25l\u001b[2K\u001b[1Gpulling manifest ⠙ \u001b[?25h\u001b[?25l\u001b[2K\u001b[1Gpulling manifest ⠸ \u001b[?25h\u001b[?25l\u001b[2K\u001b[1Gpulling manifest ⠸ \u001b[?25h\u001b[?25l\u001b[2K\u001b[1Gpulling manifest ⠴ \u001b[?25h\u001b[?25l\u001b[2K\u001b[1Gpulling manifest ⠴ \u001b[?25h\u001b[?25l\u001b[2K\u001b[1Gpulling manifest ⠧ \u001b[?25h\u001b[?25l\u001b[2K\u001b[1Gpulling manifest \n",
            "pulling b98b382ad859... 100% ▕████████████████▏ 770 MB                         \n",
            "pulling 966de95ca8a6... 100% ▕████████████████▏ 1.4 KB                         \n",
            "pulling fcc5a6bec9da... 100% ▕████████████████▏ 7.7 KB                         \n",
            "pulling a70ff7e570d9... 100% ▕████████████████▏ 6.0 KB                         \n",
            "pulling e9e2eec515fb... 100% ▕████████████████▏  485 B                         \n",
            "verifying sha256 digest \n",
            "writing manifest \n",
            "success \u001b[?25h\n"
          ]
        }
      ],
      "source": [
        "!ollama pull llama3.2:1b-instruct-q4_0"
      ]
    },
    {
      "cell_type": "code",
      "execution_count": null,
      "metadata": {},
      "outputs": [
        {
          "name": "stdout",
          "output_type": "stream",
          "text": [
            "Requirement already satisfied: langchain-ollama in c:\\users\\saugata\\miniconda3\\envs\\ollama\\lib\\site-packages (0.2.1)\n",
            "Requirement already satisfied: langchain-core<0.4.0,>=0.3.20 in c:\\users\\saugata\\miniconda3\\envs\\ollama\\lib\\site-packages (from langchain-ollama) (0.3.28)\n",
            "Requirement already satisfied: ollama<1,>=0.3.0 in c:\\users\\saugata\\miniconda3\\envs\\ollama\\lib\\site-packages (from langchain-ollama) (0.3.3)\n",
            "Requirement already satisfied: PyYAML>=5.3 in c:\\users\\saugata\\miniconda3\\envs\\ollama\\lib\\site-packages (from langchain-core<0.4.0,>=0.3.20->langchain-ollama) (6.0.2)\n",
            "Requirement already satisfied: jsonpatch<2.0,>=1.33 in c:\\users\\saugata\\miniconda3\\envs\\ollama\\lib\\site-packages (from langchain-core<0.4.0,>=0.3.20->langchain-ollama) (1.33)\n",
            "Requirement already satisfied: langsmith<0.3,>=0.1.125 in c:\\users\\saugata\\miniconda3\\envs\\ollama\\lib\\site-packages (from langchain-core<0.4.0,>=0.3.20->langchain-ollama) (0.2.3)\n",
            "Requirement already satisfied: packaging<25,>=23.2 in c:\\users\\saugata\\miniconda3\\envs\\ollama\\lib\\site-packages (from langchain-core<0.4.0,>=0.3.20->langchain-ollama) (24.1)\n",
            "Requirement already satisfied: pydantic<3.0.0,>=2.7.4 in c:\\users\\saugata\\miniconda3\\envs\\ollama\\lib\\site-packages (from langchain-core<0.4.0,>=0.3.20->langchain-ollama) (2.10.3)\n",
            "Requirement already satisfied: tenacity!=8.4.0,<10.0.0,>=8.1.0 in c:\\users\\saugata\\miniconda3\\envs\\ollama\\lib\\site-packages (from langchain-core<0.4.0,>=0.3.20->langchain-ollama) (9.0.0)\n",
            "Requirement already satisfied: typing-extensions>=4.7 in c:\\users\\saugata\\miniconda3\\envs\\ollama\\lib\\site-packages (from langchain-core<0.4.0,>=0.3.20->langchain-ollama) (4.12.2)\n",
            "Requirement already satisfied: httpx<0.28.0,>=0.27.0 in c:\\users\\saugata\\miniconda3\\envs\\ollama\\lib\\site-packages (from ollama<1,>=0.3.0->langchain-ollama) (0.27.2)\n",
            "Requirement already satisfied: anyio in c:\\users\\saugata\\miniconda3\\envs\\ollama\\lib\\site-packages (from httpx<0.28.0,>=0.27.0->ollama<1,>=0.3.0->langchain-ollama) (4.6.2.post1)\n",
            "Requirement already satisfied: certifi in c:\\users\\saugata\\miniconda3\\envs\\ollama\\lib\\site-packages (from httpx<0.28.0,>=0.27.0->ollama<1,>=0.3.0->langchain-ollama) (2024.8.30)\n",
            "Requirement already satisfied: httpcore==1.* in c:\\users\\saugata\\miniconda3\\envs\\ollama\\lib\\site-packages (from httpx<0.28.0,>=0.27.0->ollama<1,>=0.3.0->langchain-ollama) (1.0.6)\n",
            "Requirement already satisfied: idna in c:\\users\\saugata\\miniconda3\\envs\\ollama\\lib\\site-packages (from httpx<0.28.0,>=0.27.0->ollama<1,>=0.3.0->langchain-ollama) (3.10)\n",
            "Requirement already satisfied: sniffio in c:\\users\\saugata\\miniconda3\\envs\\ollama\\lib\\site-packages (from httpx<0.28.0,>=0.27.0->ollama<1,>=0.3.0->langchain-ollama) (1.3.1)\n",
            "Requirement already satisfied: h11<0.15,>=0.13 in c:\\users\\saugata\\miniconda3\\envs\\ollama\\lib\\site-packages (from httpcore==1.*->httpx<0.28.0,>=0.27.0->ollama<1,>=0.3.0->langchain-ollama) (0.14.0)\n",
            "Requirement already satisfied: jsonpointer>=1.9 in c:\\users\\saugata\\miniconda3\\envs\\ollama\\lib\\site-packages (from jsonpatch<2.0,>=1.33->langchain-core<0.4.0,>=0.3.20->langchain-ollama) (3.0.0)\n",
            "Requirement already satisfied: orjson<4.0.0,>=3.9.14 in c:\\users\\saugata\\miniconda3\\envs\\ollama\\lib\\site-packages (from langsmith<0.3,>=0.1.125->langchain-core<0.4.0,>=0.3.20->langchain-ollama) (3.10.12)\n",
            "Requirement already satisfied: requests<3,>=2 in c:\\users\\saugata\\miniconda3\\envs\\ollama\\lib\\site-packages (from langsmith<0.3,>=0.1.125->langchain-core<0.4.0,>=0.3.20->langchain-ollama) (2.32.3)\n",
            "Requirement already satisfied: requests-toolbelt<2.0.0,>=1.0.0 in c:\\users\\saugata\\miniconda3\\envs\\ollama\\lib\\site-packages (from langsmith<0.3,>=0.1.125->langchain-core<0.4.0,>=0.3.20->langchain-ollama) (1.0.0)\n",
            "Requirement already satisfied: annotated-types>=0.6.0 in c:\\users\\saugata\\miniconda3\\envs\\ollama\\lib\\site-packages (from pydantic<3.0.0,>=2.7.4->langchain-core<0.4.0,>=0.3.20->langchain-ollama) (0.7.0)\n",
            "Requirement already satisfied: pydantic-core==2.27.1 in c:\\users\\saugata\\miniconda3\\envs\\ollama\\lib\\site-packages (from pydantic<3.0.0,>=2.7.4->langchain-core<0.4.0,>=0.3.20->langchain-ollama) (2.27.1)\n",
            "Requirement already satisfied: charset-normalizer<4,>=2 in c:\\users\\saugata\\miniconda3\\envs\\ollama\\lib\\site-packages (from requests<3,>=2->langsmith<0.3,>=0.1.125->langchain-core<0.4.0,>=0.3.20->langchain-ollama) (3.4.0)\n",
            "Requirement already satisfied: urllib3<3,>=1.21.1 in c:\\users\\saugata\\miniconda3\\envs\\ollama\\lib\\site-packages (from requests<3,>=2->langsmith<0.3,>=0.1.125->langchain-core<0.4.0,>=0.3.20->langchain-ollama) (2.2.3)\n",
            "Requirement already satisfied: langchain in c:\\users\\saugata\\miniconda3\\envs\\ollama\\lib\\site-packages (0.3.13)\n",
            "Requirement already satisfied: ollama in c:\\users\\saugata\\miniconda3\\envs\\ollama\\lib\\site-packages (0.3.3)\n",
            "Requirement already satisfied: faiss-cpu in c:\\users\\saugata\\miniconda3\\envs\\ollama\\lib\\site-packages (1.9.0.post1)\n",
            "Requirement already satisfied: openai in c:\\users\\saugata\\miniconda3\\envs\\ollama\\lib\\site-packages (1.58.1)\n",
            "Requirement already satisfied: PyYAML>=5.3 in c:\\users\\saugata\\miniconda3\\envs\\ollama\\lib\\site-packages (from langchain) (6.0.2)\n",
            "Requirement already satisfied: SQLAlchemy<3,>=1.4 in c:\\users\\saugata\\miniconda3\\envs\\ollama\\lib\\site-packages (from langchain) (2.0.36)\n",
            "Requirement already satisfied: aiohttp<4.0.0,>=3.8.3 in c:\\users\\saugata\\miniconda3\\envs\\ollama\\lib\\site-packages (from langchain) (3.11.11)\n",
            "Requirement already satisfied: langchain-core<0.4.0,>=0.3.26 in c:\\users\\saugata\\miniconda3\\envs\\ollama\\lib\\site-packages (from langchain) (0.3.28)\n",
            "Requirement already satisfied: langchain-text-splitters<0.4.0,>=0.3.3 in c:\\users\\saugata\\miniconda3\\envs\\ollama\\lib\\site-packages (from langchain) (0.3.4)\n",
            "Requirement already satisfied: langsmith<0.3,>=0.1.17 in c:\\users\\saugata\\miniconda3\\envs\\ollama\\lib\\site-packages (from langchain) (0.2.3)\n",
            "Requirement already satisfied: numpy<3,>=1.26.2 in c:\\users\\saugata\\miniconda3\\envs\\ollama\\lib\\site-packages (from langchain) (2.1.2)\n",
            "Requirement already satisfied: pydantic<3.0.0,>=2.7.4 in c:\\users\\saugata\\miniconda3\\envs\\ollama\\lib\\site-packages (from langchain) (2.10.3)\n",
            "Requirement already satisfied: requests<3,>=2 in c:\\users\\saugata\\miniconda3\\envs\\ollama\\lib\\site-packages (from langchain) (2.32.3)\n",
            "Requirement already satisfied: tenacity!=8.4.0,<10,>=8.1.0 in c:\\users\\saugata\\miniconda3\\envs\\ollama\\lib\\site-packages (from langchain) (9.0.0)\n",
            "Requirement already satisfied: httpx<0.28.0,>=0.27.0 in c:\\users\\saugata\\miniconda3\\envs\\ollama\\lib\\site-packages (from ollama) (0.27.2)\n",
            "Requirement already satisfied: packaging in c:\\users\\saugata\\miniconda3\\envs\\ollama\\lib\\site-packages (from faiss-cpu) (24.1)\n",
            "Requirement already satisfied: anyio<5,>=3.5.0 in c:\\users\\saugata\\miniconda3\\envs\\ollama\\lib\\site-packages (from openai) (4.6.2.post1)\n",
            "Requirement already satisfied: distro<2,>=1.7.0 in c:\\users\\saugata\\miniconda3\\envs\\ollama\\lib\\site-packages (from openai) (1.9.0)\n",
            "Requirement already satisfied: jiter<1,>=0.4.0 in c:\\users\\saugata\\miniconda3\\envs\\ollama\\lib\\site-packages (from openai) (0.8.2)\n",
            "Requirement already satisfied: sniffio in c:\\users\\saugata\\miniconda3\\envs\\ollama\\lib\\site-packages (from openai) (1.3.1)\n",
            "Requirement already satisfied: tqdm>4 in c:\\users\\saugata\\miniconda3\\envs\\ollama\\lib\\site-packages (from openai) (4.67.1)\n",
            "Requirement already satisfied: typing-extensions<5,>=4.11 in c:\\users\\saugata\\miniconda3\\envs\\ollama\\lib\\site-packages (from openai) (4.12.2)\n",
            "Requirement already satisfied: aiohappyeyeballs>=2.3.0 in c:\\users\\saugata\\miniconda3\\envs\\ollama\\lib\\site-packages (from aiohttp<4.0.0,>=3.8.3->langchain) (2.4.4)\n",
            "Requirement already satisfied: aiosignal>=1.1.2 in c:\\users\\saugata\\miniconda3\\envs\\ollama\\lib\\site-packages (from aiohttp<4.0.0,>=3.8.3->langchain) (1.3.2)\n",
            "Requirement already satisfied: attrs>=17.3.0 in c:\\users\\saugata\\miniconda3\\envs\\ollama\\lib\\site-packages (from aiohttp<4.0.0,>=3.8.3->langchain) (24.3.0)\n",
            "Requirement already satisfied: frozenlist>=1.1.1 in c:\\users\\saugata\\miniconda3\\envs\\ollama\\lib\\site-packages (from aiohttp<4.0.0,>=3.8.3->langchain) (1.5.0)\n",
            "Requirement already satisfied: multidict<7.0,>=4.5 in c:\\users\\saugata\\miniconda3\\envs\\ollama\\lib\\site-packages (from aiohttp<4.0.0,>=3.8.3->langchain) (6.1.0)\n",
            "Requirement already satisfied: propcache>=0.2.0 in c:\\users\\saugata\\miniconda3\\envs\\ollama\\lib\\site-packages (from aiohttp<4.0.0,>=3.8.3->langchain) (0.2.1)\n",
            "Requirement already satisfied: yarl<2.0,>=1.17.0 in c:\\users\\saugata\\miniconda3\\envs\\ollama\\lib\\site-packages (from aiohttp<4.0.0,>=3.8.3->langchain) (1.18.3)\n",
            "Requirement already satisfied: idna>=2.8 in c:\\users\\saugata\\miniconda3\\envs\\ollama\\lib\\site-packages (from anyio<5,>=3.5.0->openai) (3.10)\n",
            "Requirement already satisfied: certifi in c:\\users\\saugata\\miniconda3\\envs\\ollama\\lib\\site-packages (from httpx<0.28.0,>=0.27.0->ollama) (2024.8.30)\n",
            "Requirement already satisfied: httpcore==1.* in c:\\users\\saugata\\miniconda3\\envs\\ollama\\lib\\site-packages (from httpx<0.28.0,>=0.27.0->ollama) (1.0.6)\n",
            "Requirement already satisfied: h11<0.15,>=0.13 in c:\\users\\saugata\\miniconda3\\envs\\ollama\\lib\\site-packages (from httpcore==1.*->httpx<0.28.0,>=0.27.0->ollama) (0.14.0)\n",
            "Requirement already satisfied: jsonpatch<2.0,>=1.33 in c:\\users\\saugata\\miniconda3\\envs\\ollama\\lib\\site-packages (from langchain-core<0.4.0,>=0.3.26->langchain) (1.33)\n",
            "Requirement already satisfied: orjson<4.0.0,>=3.9.14 in c:\\users\\saugata\\miniconda3\\envs\\ollama\\lib\\site-packages (from langsmith<0.3,>=0.1.17->langchain) (3.10.12)\n",
            "Requirement already satisfied: requests-toolbelt<2.0.0,>=1.0.0 in c:\\users\\saugata\\miniconda3\\envs\\ollama\\lib\\site-packages (from langsmith<0.3,>=0.1.17->langchain) (1.0.0)\n",
            "Requirement already satisfied: annotated-types>=0.6.0 in c:\\users\\saugata\\miniconda3\\envs\\ollama\\lib\\site-packages (from pydantic<3.0.0,>=2.7.4->langchain) (0.7.0)\n",
            "Requirement already satisfied: pydantic-core==2.27.1 in c:\\users\\saugata\\miniconda3\\envs\\ollama\\lib\\site-packages (from pydantic<3.0.0,>=2.7.4->langchain) (2.27.1)\n",
            "Requirement already satisfied: charset-normalizer<4,>=2 in c:\\users\\saugata\\miniconda3\\envs\\ollama\\lib\\site-packages (from requests<3,>=2->langchain) (3.4.0)\n",
            "Requirement already satisfied: urllib3<3,>=1.21.1 in c:\\users\\saugata\\miniconda3\\envs\\ollama\\lib\\site-packages (from requests<3,>=2->langchain) (2.2.3)\n",
            "Requirement already satisfied: colorama in c:\\users\\saugata\\miniconda3\\envs\\ollama\\lib\\site-packages (from tqdm>4->openai) (0.4.6)\n",
            "Requirement already satisfied: jsonpointer>=1.9 in c:\\users\\saugata\\miniconda3\\envs\\ollama\\lib\\site-packages (from jsonpatch<2.0,>=1.33->langchain-core<0.4.0,>=0.3.26->langchain) (3.0.0)\n"
          ]
        }
      ],
      "source": [
        "!pip install langchain-ollama\n",
        "!pip install langchain ollama faiss-cpu openai\n"
      ]
    },
    {
      "cell_type": "code",
      "execution_count": 13,
      "metadata": {},
      "outputs": [],
      "source": [
        "from langchain_core.prompts import ChatPromptTemplate\n",
        "from langchain_ollama.llms import OllamaLLM\n",
        "from IPython.display import Markdown"
      ]
    },
    {
      "cell_type": "code",
      "execution_count": 15,
      "metadata": {},
      "outputs": [],
      "source": [
        "llm =  OllamaLLM(model='llama3.2:1b-instruct-q4_0')"
      ]
    },
    {
      "cell_type": "code",
      "execution_count": null,
      "metadata": {},
      "outputs": [],
      "source": [
        "\n",
        "import pytesseract\n",
        "from PIL import Image\n",
        "import os\n",
        "import openai\n",
        "\n",
        "\n",
        "RECIPE_FILE = \"my_fav_recipes.txt\"\n",
        "\n",
        "\n",
        "def initialize_recipe_file():\n",
        "    if not os.path.exists(RECIPE_FILE):\n",
        "        with open(RECIPE_FILE, \"w\") as file:\n",
        "            file.write()\n",
        "\n",
        "# Function to save recipe to the file\n",
        "def save_recipe(recipe_name, ingredients, instructions):\n",
        "    with open(RECIPE_FILE, \"a\") as file:\n",
        "        file.write(f\"\\n- Recipe Name: {recipe_name}\\n\")\n",
        "        file.write(f\"- Ingredients: {ingredients}\\n\")\n",
        "        file.write(f\"- Instructions: {instructions}\\n\")\n",
        "        file.write(\"===================\\n\")\n",
        "\n",
        "# Function to parse text input with OpenAI for enhancement\n",
        "def parse_and_enhance_text(input_text):\n",
        "    try:\n",
        "        response = openai.Completion.create(\n",
        "            engine=\"text-davinci-003\",\n",
        "            prompt=f\"Extract and enhance the recipe details from the following text: {input_text}\\nFormat:\\nRecipe Name: <Name>\\nIngredients: <Ingredients List>\\nInstructions: <Step-by-step Instructions>\",\n",
        "            max_tokens=500\n",
        "        )\n",
        "        return response.choices[0].text.strip()\n",
        "    except Exception as e:\n",
        "        return str(e)\n",
        "\n",
        "# Function to add a recipe from text input\n",
        "def add_recipe_from_text(raw_text):\n",
        "    if not raw_text:\n",
        "        raise ValueError(\"Input text is required.\")\n",
        "\n",
        "    enhanced_text = parse_and_enhance_text(raw_text)\n",
        "    parts = enhanced_text.split('\\n')\n",
        "\n",
        "    # Parse the enhanced response for Recipe Name, Ingredients, and Instructions\n",
        "    recipe_name = parts[0].replace(\"Recipe Name: \", \"\").strip()\n",
        "    ingredients = parts[1].replace(\"Ingredients: \", \"\").strip()\n",
        "    instructions = parts[2].replace(\"Instructions: \", \"\").strip()\n",
        "\n",
        "    save_recipe(recipe_name, ingredients, instructions)\n",
        "    print(\"Recipe added successfully from text.\")\n",
        "\n",
        "# Function to add a recipe from an image\n",
        "def add_recipe_from_image(image_path):\n",
        "    if not os.path.exists(image_path):\n",
        "        raise FileNotFoundError(\"Image file does not exist.\")\n",
        "\n",
        "    try:\n",
        "        # Extract text from the image\n",
        "        extracted_text = pytesseract.image_to_string(Image.open(image_path))\n",
        "\n",
        "        # Enhance and parse the extracted text\n",
        "        enhanced_text = parse_and_enhance_text(extracted_text)\n",
        "        parts = enhanced_text.split('\\n')\n",
        "\n",
        "        # Parse the enhanced response for Recipe Name, Ingredients, and Instructions\n",
        "        recipe_name = parts[0].replace(\"Recipe Name: \", \"\").strip()\n",
        "        ingredients = parts[1].replace(\"Ingredients: \", \"\").strip()\n",
        "        instructions = parts[2].replace(\"Instructions: \", \"\").strip()\n",
        "\n",
        "        save_recipe(recipe_name, ingredients, instructions)\n",
        "        print(\"Recipe added successfully from image.\")\n",
        "\n",
        "    except Exception as e:\n",
        "        print(f\"Error: {e}\")\n",
        "\n",
        "if _name_ == \"_main_\":\n",
        "    initialize_recipe_file()\n",
        "\n",
        "    # Example usage:\n",
        "    try:\n",
        "        # Add recipe from text\n",
        "        raw_recipe_text = \"Pasta|Tomatoes, Pasta, Garlic|Boil pasta, cook sauce, mix together.\"\n",
        "        add_recipe_from_text(raw_recipe_text)\n",
        "\n",
        "        # Add recipe from image\n",
        "        image_file_path = \"recipe_image.png\"\n",
        "        add_recipe_from_image(image_file_path)\n",
        "\n",
        "    except Exception as e:\n",
        "        print(f\"Error: {e}\")"
      ]
    },
    {
      "cell_type": "code",
      "execution_count": 13,
      "metadata": {},
      "outputs": [],
      "source": [
        "\n"
      ]
    },
    {
      "cell_type": "code",
      "execution_count": 16,
      "metadata": {},
      "outputs": [
        {
          "ename": "KeyError",
          "evalue": "\"Input to ChatPromptTemplate is missing variables {'input'}.  Expected: ['input', 'input_language', 'output_language'] Received: ['input_language', 'output_language']\\nNote: if you intended {input} to be part of the string and not a variable, please escape it with double curly braces like: '{{input}}'.\\nFor troubleshooting, visit: https://python.langchain.com/docs/troubleshooting/errors/INVALID_PROMPT_INPUT \"",
          "output_type": "error",
          "traceback": [
            "\u001b[1;31m---------------------------------------------------------------------------\u001b[0m",
            "\u001b[1;31mKeyError\u001b[0m                                  Traceback (most recent call last)",
            "Cell \u001b[1;32mIn[16], line 14\u001b[0m\n\u001b[0;32m      3\u001b[0m prompt \u001b[38;5;241m=\u001b[39m ChatPromptTemplate\u001b[38;5;241m.\u001b[39mfrom_messages(\n\u001b[0;32m      4\u001b[0m     [\n\u001b[0;32m      5\u001b[0m         (\n\u001b[1;32m   (...)\u001b[0m\n\u001b[0;32m     10\u001b[0m     ]\n\u001b[0;32m     11\u001b[0m )\n\u001b[0;32m     13\u001b[0m chain \u001b[38;5;241m=\u001b[39m prompt \u001b[38;5;241m|\u001b[39m llm\n\u001b[1;32m---> 14\u001b[0m \u001b[43mchain\u001b[49m\u001b[38;5;241;43m.\u001b[39;49m\u001b[43minvoke\u001b[49m\u001b[43m(\u001b[49m\n\u001b[0;32m     15\u001b[0m \u001b[43m    \u001b[49m\u001b[43m{\u001b[49m\n\u001b[0;32m     16\u001b[0m \u001b[43m        \u001b[49m\u001b[38;5;124;43m\"\u001b[39;49m\u001b[38;5;124;43minput_language\u001b[39;49m\u001b[38;5;124;43m\"\u001b[39;49m\u001b[43m:\u001b[49m\u001b[43m \u001b[49m\u001b[38;5;124;43m\"\u001b[39;49m\u001b[38;5;124;43mEnglish\u001b[39;49m\u001b[38;5;124;43m\"\u001b[39;49m\u001b[43m,\u001b[49m\n\u001b[0;32m     17\u001b[0m \u001b[43m        \u001b[49m\u001b[38;5;124;43m\"\u001b[39;49m\u001b[38;5;124;43moutput_language\u001b[39;49m\u001b[38;5;124;43m\"\u001b[39;49m\u001b[43m:\u001b[49m\u001b[43m \u001b[49m\u001b[38;5;124;43m\"\u001b[39;49m\u001b[38;5;124;43mEnglish\u001b[39;49m\u001b[38;5;124;43m\"\u001b[39;49m\u001b[43m,\u001b[49m\n\u001b[0;32m     18\u001b[0m \u001b[43m    \u001b[49m\u001b[43m}\u001b[49m\n\u001b[0;32m     19\u001b[0m \u001b[43m)\u001b[49m\n",
            "File \u001b[1;32mc:\\Users\\Saugata\\miniconda3\\envs\\ollama\\Lib\\site-packages\\langchain_core\\runnables\\base.py:3022\u001b[0m, in \u001b[0;36mRunnableSequence.invoke\u001b[1;34m(self, input, config, **kwargs)\u001b[0m\n\u001b[0;32m   3020\u001b[0m context\u001b[38;5;241m.\u001b[39mrun(_set_config_context, config)\n\u001b[0;32m   3021\u001b[0m \u001b[38;5;28;01mif\u001b[39;00m i \u001b[38;5;241m==\u001b[39m \u001b[38;5;241m0\u001b[39m:\n\u001b[1;32m-> 3022\u001b[0m     \u001b[38;5;28minput\u001b[39m \u001b[38;5;241m=\u001b[39m \u001b[43mcontext\u001b[49m\u001b[38;5;241;43m.\u001b[39;49m\u001b[43mrun\u001b[49m\u001b[43m(\u001b[49m\u001b[43mstep\u001b[49m\u001b[38;5;241;43m.\u001b[39;49m\u001b[43minvoke\u001b[49m\u001b[43m,\u001b[49m\u001b[43m \u001b[49m\u001b[38;5;28;43minput\u001b[39;49m\u001b[43m,\u001b[49m\u001b[43m \u001b[49m\u001b[43mconfig\u001b[49m\u001b[43m,\u001b[49m\u001b[43m \u001b[49m\u001b[38;5;241;43m*\u001b[39;49m\u001b[38;5;241;43m*\u001b[39;49m\u001b[43mkwargs\u001b[49m\u001b[43m)\u001b[49m\n\u001b[0;32m   3023\u001b[0m \u001b[38;5;28;01melse\u001b[39;00m:\n\u001b[0;32m   3024\u001b[0m     \u001b[38;5;28minput\u001b[39m \u001b[38;5;241m=\u001b[39m context\u001b[38;5;241m.\u001b[39mrun(step\u001b[38;5;241m.\u001b[39minvoke, \u001b[38;5;28minput\u001b[39m, config)\n",
            "File \u001b[1;32mc:\\Users\\Saugata\\miniconda3\\envs\\ollama\\Lib\\site-packages\\langchain_core\\prompts\\base.py:208\u001b[0m, in \u001b[0;36mBasePromptTemplate.invoke\u001b[1;34m(self, input, config, **kwargs)\u001b[0m\n\u001b[0;32m    206\u001b[0m \u001b[38;5;28;01mif\u001b[39;00m \u001b[38;5;28mself\u001b[39m\u001b[38;5;241m.\u001b[39mtags:\n\u001b[0;32m    207\u001b[0m     config[\u001b[38;5;124m\"\u001b[39m\u001b[38;5;124mtags\u001b[39m\u001b[38;5;124m\"\u001b[39m] \u001b[38;5;241m=\u001b[39m config[\u001b[38;5;124m\"\u001b[39m\u001b[38;5;124mtags\u001b[39m\u001b[38;5;124m\"\u001b[39m] \u001b[38;5;241m+\u001b[39m \u001b[38;5;28mself\u001b[39m\u001b[38;5;241m.\u001b[39mtags\n\u001b[1;32m--> 208\u001b[0m \u001b[38;5;28;01mreturn\u001b[39;00m \u001b[38;5;28;43mself\u001b[39;49m\u001b[38;5;241;43m.\u001b[39;49m\u001b[43m_call_with_config\u001b[49m\u001b[43m(\u001b[49m\n\u001b[0;32m    209\u001b[0m \u001b[43m    \u001b[49m\u001b[38;5;28;43mself\u001b[39;49m\u001b[38;5;241;43m.\u001b[39;49m\u001b[43m_format_prompt_with_error_handling\u001b[49m\u001b[43m,\u001b[49m\n\u001b[0;32m    210\u001b[0m \u001b[43m    \u001b[49m\u001b[38;5;28;43minput\u001b[39;49m\u001b[43m,\u001b[49m\n\u001b[0;32m    211\u001b[0m \u001b[43m    \u001b[49m\u001b[43mconfig\u001b[49m\u001b[43m,\u001b[49m\n\u001b[0;32m    212\u001b[0m \u001b[43m    \u001b[49m\u001b[43mrun_type\u001b[49m\u001b[38;5;241;43m=\u001b[39;49m\u001b[38;5;124;43m\"\u001b[39;49m\u001b[38;5;124;43mprompt\u001b[39;49m\u001b[38;5;124;43m\"\u001b[39;49m\u001b[43m,\u001b[49m\n\u001b[0;32m    213\u001b[0m \u001b[43m    \u001b[49m\u001b[43mserialized\u001b[49m\u001b[38;5;241;43m=\u001b[39;49m\u001b[38;5;28;43mself\u001b[39;49m\u001b[38;5;241;43m.\u001b[39;49m\u001b[43m_serialized\u001b[49m\u001b[43m,\u001b[49m\n\u001b[0;32m    214\u001b[0m \u001b[43m\u001b[49m\u001b[43m)\u001b[49m\n",
            "File \u001b[1;32mc:\\Users\\Saugata\\miniconda3\\envs\\ollama\\Lib\\site-packages\\langchain_core\\runnables\\base.py:1927\u001b[0m, in \u001b[0;36mRunnable._call_with_config\u001b[1;34m(self, func, input, config, run_type, serialized, **kwargs)\u001b[0m\n\u001b[0;32m   1923\u001b[0m     context \u001b[38;5;241m=\u001b[39m copy_context()\n\u001b[0;32m   1924\u001b[0m     context\u001b[38;5;241m.\u001b[39mrun(_set_config_context, child_config)\n\u001b[0;32m   1925\u001b[0m     output \u001b[38;5;241m=\u001b[39m cast(\n\u001b[0;32m   1926\u001b[0m         Output,\n\u001b[1;32m-> 1927\u001b[0m         \u001b[43mcontext\u001b[49m\u001b[38;5;241;43m.\u001b[39;49m\u001b[43mrun\u001b[49m\u001b[43m(\u001b[49m\n\u001b[0;32m   1928\u001b[0m \u001b[43m            \u001b[49m\u001b[43mcall_func_with_variable_args\u001b[49m\u001b[43m,\u001b[49m\u001b[43m  \u001b[49m\u001b[38;5;66;43;03m# type: ignore[arg-type]\u001b[39;49;00m\n\u001b[0;32m   1929\u001b[0m \u001b[43m            \u001b[49m\u001b[43mfunc\u001b[49m\u001b[43m,\u001b[49m\u001b[43m  \u001b[49m\u001b[38;5;66;43;03m# type: ignore[arg-type]\u001b[39;49;00m\n\u001b[0;32m   1930\u001b[0m \u001b[43m            \u001b[49m\u001b[38;5;28;43minput\u001b[39;49m\u001b[43m,\u001b[49m\u001b[43m  \u001b[49m\u001b[38;5;66;43;03m# type: ignore[arg-type]\u001b[39;49;00m\n\u001b[0;32m   1931\u001b[0m \u001b[43m            \u001b[49m\u001b[43mconfig\u001b[49m\u001b[43m,\u001b[49m\n\u001b[0;32m   1932\u001b[0m \u001b[43m            \u001b[49m\u001b[43mrun_manager\u001b[49m\u001b[43m,\u001b[49m\n\u001b[0;32m   1933\u001b[0m \u001b[43m            \u001b[49m\u001b[38;5;241;43m*\u001b[39;49m\u001b[38;5;241;43m*\u001b[39;49m\u001b[43mkwargs\u001b[49m\u001b[43m,\u001b[49m\n\u001b[0;32m   1934\u001b[0m \u001b[43m        \u001b[49m\u001b[43m)\u001b[49m,\n\u001b[0;32m   1935\u001b[0m     )\n\u001b[0;32m   1936\u001b[0m \u001b[38;5;28;01mexcept\u001b[39;00m \u001b[38;5;167;01mBaseException\u001b[39;00m \u001b[38;5;28;01mas\u001b[39;00m e:\n\u001b[0;32m   1937\u001b[0m     run_manager\u001b[38;5;241m.\u001b[39mon_chain_error(e)\n",
            "File \u001b[1;32mc:\\Users\\Saugata\\miniconda3\\envs\\ollama\\Lib\\site-packages\\langchain_core\\runnables\\config.py:396\u001b[0m, in \u001b[0;36mcall_func_with_variable_args\u001b[1;34m(func, input, config, run_manager, **kwargs)\u001b[0m\n\u001b[0;32m    394\u001b[0m \u001b[38;5;28;01mif\u001b[39;00m run_manager \u001b[38;5;129;01mis\u001b[39;00m \u001b[38;5;129;01mnot\u001b[39;00m \u001b[38;5;28;01mNone\u001b[39;00m \u001b[38;5;129;01mand\u001b[39;00m accepts_run_manager(func):\n\u001b[0;32m    395\u001b[0m     kwargs[\u001b[38;5;124m\"\u001b[39m\u001b[38;5;124mrun_manager\u001b[39m\u001b[38;5;124m\"\u001b[39m] \u001b[38;5;241m=\u001b[39m run_manager\n\u001b[1;32m--> 396\u001b[0m \u001b[38;5;28;01mreturn\u001b[39;00m \u001b[43mfunc\u001b[49m\u001b[43m(\u001b[49m\u001b[38;5;28;43minput\u001b[39;49m\u001b[43m,\u001b[49m\u001b[43m \u001b[49m\u001b[38;5;241;43m*\u001b[39;49m\u001b[38;5;241;43m*\u001b[39;49m\u001b[43mkwargs\u001b[49m\u001b[43m)\u001b[49m\n",
            "File \u001b[1;32mc:\\Users\\Saugata\\miniconda3\\envs\\ollama\\Lib\\site-packages\\langchain_core\\prompts\\base.py:182\u001b[0m, in \u001b[0;36mBasePromptTemplate._format_prompt_with_error_handling\u001b[1;34m(self, inner_input)\u001b[0m\n\u001b[0;32m    181\u001b[0m \u001b[38;5;28;01mdef\u001b[39;00m \u001b[38;5;21m_format_prompt_with_error_handling\u001b[39m(\u001b[38;5;28mself\u001b[39m, inner_input: \u001b[38;5;28mdict\u001b[39m) \u001b[38;5;241m-\u001b[39m\u001b[38;5;241m>\u001b[39m PromptValue:\n\u001b[1;32m--> 182\u001b[0m     _inner_input \u001b[38;5;241m=\u001b[39m \u001b[38;5;28;43mself\u001b[39;49m\u001b[38;5;241;43m.\u001b[39;49m\u001b[43m_validate_input\u001b[49m\u001b[43m(\u001b[49m\u001b[43minner_input\u001b[49m\u001b[43m)\u001b[49m\n\u001b[0;32m    183\u001b[0m     \u001b[38;5;28;01mreturn\u001b[39;00m \u001b[38;5;28mself\u001b[39m\u001b[38;5;241m.\u001b[39mformat_prompt(\u001b[38;5;241m*\u001b[39m\u001b[38;5;241m*\u001b[39m_inner_input)\n",
            "File \u001b[1;32mc:\\Users\\Saugata\\miniconda3\\envs\\ollama\\Lib\\site-packages\\langchain_core\\prompts\\base.py:176\u001b[0m, in \u001b[0;36mBasePromptTemplate._validate_input\u001b[1;34m(self, inner_input)\u001b[0m\n\u001b[0;32m    170\u001b[0m     example_key \u001b[38;5;241m=\u001b[39m missing\u001b[38;5;241m.\u001b[39mpop()\n\u001b[0;32m    171\u001b[0m     msg \u001b[38;5;241m+\u001b[39m\u001b[38;5;241m=\u001b[39m (\n\u001b[0;32m    172\u001b[0m         \u001b[38;5;124mf\u001b[39m\u001b[38;5;124m\"\u001b[39m\u001b[38;5;130;01m\\n\u001b[39;00m\u001b[38;5;124mNote: if you intended \u001b[39m\u001b[38;5;130;01m{{\u001b[39;00m\u001b[38;5;132;01m{\u001b[39;00mexample_key\u001b[38;5;132;01m}\u001b[39;00m\u001b[38;5;130;01m}}\u001b[39;00m\u001b[38;5;124m to be part of the string\u001b[39m\u001b[38;5;124m\"\u001b[39m\n\u001b[0;32m    173\u001b[0m         \u001b[38;5;124m\"\u001b[39m\u001b[38;5;124m and not a variable, please escape it with double curly braces like: \u001b[39m\u001b[38;5;124m\"\u001b[39m\n\u001b[0;32m    174\u001b[0m         \u001b[38;5;124mf\u001b[39m\u001b[38;5;124m\"\u001b[39m\u001b[38;5;124m'\u001b[39m\u001b[38;5;130;01m{{\u001b[39;00m\u001b[38;5;130;01m{{\u001b[39;00m\u001b[38;5;132;01m{\u001b[39;00mexample_key\u001b[38;5;132;01m}\u001b[39;00m\u001b[38;5;130;01m}}\u001b[39;00m\u001b[38;5;130;01m}}\u001b[39;00m\u001b[38;5;124m'\u001b[39m\u001b[38;5;124m.\u001b[39m\u001b[38;5;124m\"\u001b[39m\n\u001b[0;32m    175\u001b[0m     )\n\u001b[1;32m--> 176\u001b[0m     \u001b[38;5;28;01mraise\u001b[39;00m \u001b[38;5;167;01mKeyError\u001b[39;00m(\n\u001b[0;32m    177\u001b[0m         create_message(message\u001b[38;5;241m=\u001b[39mmsg, error_code\u001b[38;5;241m=\u001b[39mErrorCode\u001b[38;5;241m.\u001b[39mINVALID_PROMPT_INPUT)\n\u001b[0;32m    178\u001b[0m     )\n\u001b[0;32m    179\u001b[0m \u001b[38;5;28;01mreturn\u001b[39;00m inner_input\n",
            "\u001b[1;31mKeyError\u001b[0m: \"Input to ChatPromptTemplate is missing variables {'input'}.  Expected: ['input', 'input_language', 'output_language'] Received: ['input_language', 'output_language']\\nNote: if you intended {input} to be part of the string and not a variable, please escape it with double curly braces like: '{{input}}'.\\nFor troubleshooting, visit: https://python.langchain.com/docs/troubleshooting/errors/INVALID_PROMPT_INPUT \""
          ]
        }
      ],
      "source": [
        "from langchain_core.prompts import ChatPromptTemplate\n",
        "\n",
        "prompt = ChatPromptTemplate.from_messages(\n",
        "    [\n",
        "        (\n",
        "            \"system\",\n",
        "            \"You are a helpful assistant that translates {input_language} to {output_language}.\",\n",
        "        ),\n",
        "        (\"human\", \"{input}\"),\n",
        "    ]\n",
        ")\n",
        "\n",
        "chain = prompt | llm\n",
        "chain.invoke(\n",
        "    {\n",
        "        \"input_language\": \"English\",\n",
        "        \"output_language\": \"English\",\n",
        "    }\n",
        ")"
      ]
    },
    {
      "cell_type": "code",
      "execution_count": null,
      "metadata": {},
      "outputs": [],
      "source": []
    }
  ],
  "metadata": {
    "colab": {
      "provenance": []
    },
    "kernelspec": {
      "display_name": "ollama",
      "language": "python",
      "name": "python3"
    },
    "language_info": {
      "codemirror_mode": {
        "name": "ipython",
        "version": 3
      },
      "file_extension": ".py",
      "mimetype": "text/x-python",
      "name": "python",
      "nbconvert_exporter": "python",
      "pygments_lexer": "ipython3",
      "version": "3.13.0"
    }
  },
  "nbformat": 4,
  "nbformat_minor": 0
}
